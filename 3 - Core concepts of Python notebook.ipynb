{
 "cells": [
  {
   "cell_type": "code",
   "execution_count": 5,
   "metadata": {},
   "outputs": [
    {
     "data": {
      "text/plain": [
       "286"
      ]
     },
     "execution_count": 5,
     "metadata": {},
     "output_type": "execute_result"
    }
   ],
   "source": [
    "#This is a comment\n",
    "a = 11\n",
    "b = 26\n",
    "a*b"
   ]
  },
  {
   "cell_type": "code",
   "execution_count": 4,
   "metadata": {},
   "outputs": [
    {
     "name": "stdout",
     "output_type": "stream",
     "text": [
      "Hello Digital Methods!\n"
     ]
    }
   ],
   "source": [
    "print(\"Hello Digital Methods!\")"
   ]
  },
  {
   "cell_type": "markdown",
   "metadata": {},
   "source": [
    "# Heading\n",
    "\n",
    "### Small heading\n",
    "Normal text"
   ]
  },
  {
   "cell_type": "code",
   "execution_count": 6,
   "metadata": {},
   "outputs": [
    {
     "data": {
      "text/plain": [
       "1.0"
      ]
     },
     "execution_count": 6,
     "metadata": {},
     "output_type": "execute_result"
    }
   ],
   "source": [
    "#Hvorfor man skal passe på med at konvertere mellem floats og integers:\n",
    "float(int(1.6))"
   ]
  },
  {
   "cell_type": "code",
   "execution_count": 9,
   "metadata": {},
   "outputs": [
    {
     "data": {
      "text/plain": [
       "True"
      ]
     },
     "execution_count": 9,
     "metadata": {},
     "output_type": "execute_result"
    }
   ],
   "source": [
    "#Method example\n",
    "my_float = 3.0\n",
    "my_float.is_integer()"
   ]
  },
  {
   "cell_type": "code",
   "execution_count": 10,
   "metadata": {},
   "outputs": [
    {
     "ename": "ValueError",
     "evalue": "invalid literal for int() with base 10: 'I am a string'",
     "output_type": "error",
     "traceback": [
      "\u001b[1;31m---------------------------------------------------------------------------\u001b[0m",
      "\u001b[1;31mValueError\u001b[0m                                Traceback (most recent call last)",
      "\u001b[1;32m<ipython-input-10-314a7d2f4873>\u001b[0m in \u001b[0;36m<module>\u001b[1;34m\u001b[0m\n\u001b[0;32m      1\u001b[0m \u001b[0mmy_string\u001b[0m\u001b[1;33m=\u001b[0m\u001b[1;34m'I am a string'\u001b[0m\u001b[1;33m\u001b[0m\u001b[1;33m\u001b[0m\u001b[0m\n\u001b[1;32m----> 2\u001b[1;33m \u001b[0mint\u001b[0m\u001b[1;33m(\u001b[0m\u001b[0mmy_string\u001b[0m\u001b[1;33m)\u001b[0m\u001b[1;33m\u001b[0m\u001b[1;33m\u001b[0m\u001b[0m\n\u001b[0m\u001b[0;32m      3\u001b[0m \u001b[0mprint\u001b[0m\u001b[1;33m(\u001b[0m\u001b[0mmy_string\u001b[0m\u001b[1;33m)\u001b[0m\u001b[1;33m\u001b[0m\u001b[1;33m\u001b[0m\u001b[0m\n",
      "\u001b[1;31mValueError\u001b[0m: invalid literal for int() with base 10: 'I am a string'"
     ]
    }
   ],
   "source": [
    "#Debugging. Google fejlen for at finde ud af, hvorfor der kommer fejl. Her det fordi man prøver at lave en str til int\n",
    "my_string='I am a string'\n",
    "int(my_string)\n",
    "print(my_string)"
   ]
  },
  {
   "cell_type": "code",
   "execution_count": 12,
   "metadata": {},
   "outputs": [
    {
     "data": {
      "text/plain": [
       "True"
      ]
     },
     "execution_count": 12,
     "metadata": {},
     "output_type": "execute_result"
    }
   ],
   "source": [
    "#Boolean operators\n",
    "3 >= (2+1)"
   ]
  },
  {
   "cell_type": "code",
   "execution_count": 16,
   "metadata": {},
   "outputs": [
    {
     "ename": "SyntaxError",
     "evalue": "invalid syntax (<ipython-input-16-8529afe7cb93>, line 2)",
     "output_type": "error",
     "traceback": [
      "\u001b[1;36m  File \u001b[1;32m\"<ipython-input-16-8529afe7cb93>\"\u001b[1;36m, line \u001b[1;32m2\u001b[0m\n\u001b[1;33m    True or True =\u001b[0m\n\u001b[1;37m                   ^\u001b[0m\n\u001b[1;31mSyntaxError\u001b[0m\u001b[1;31m:\u001b[0m invalid syntax\n"
     ]
    }
   ],
   "source": [
    "#Testing Boolean logic. Think of these as comparing statements (.e.g, \"This is a chair\" and \"This is a cheese\" on the same object)\n",
    "True or True = \n",
    "#true\n",
    "\n",
    "True or False = \n",
    "#true\n",
    "\n",
    "False or False = \n",
    "#false\n",
    "\n",
    "True and True = \n",
    "#true\n",
    "\n",
    "True and False = \n",
    "#false (cannot be both at same time)\n",
    "\n",
    "False and False = \n",
    "#false"
   ]
  },
  {
   "cell_type": "code",
   "execution_count": 17,
   "metadata": {},
   "outputs": [
    {
     "name": "stdout",
     "output_type": "stream",
     "text": [
      "social science\n"
     ]
    }
   ],
   "source": [
    "#Combining strings (concatenation). Remember to add ' ' for spaces\n",
    "s1 = 'social'\n",
    "s2 = 'science'\n",
    "print (s1 + ' ' + s2)"
   ]
  },
  {
   "cell_type": "code",
   "execution_count": 23,
   "metadata": {},
   "outputs": [],
   "source": [
    "#Method of strings example. Here, upper. Prints what it is in upper, but does not make it upper.\n",
    "s1.upper()\n",
    "\n",
    "#To actually make it upper:\n",
    "s1 = s1.upper()"
   ]
  },
  {
   "cell_type": "code",
   "execution_count": 24,
   "metadata": {},
   "outputs": [
    {
     "data": {
      "text/plain": [
       "False"
      ]
     },
     "execution_count": 24,
     "metadata": {},
     "output_type": "execute_result"
    }
   ],
   "source": [
    "#Because of uppercase, s3 is no longer in s1. Had I not done s1=s1.upper(), it would have been true.\n",
    "s3 = 'soc'\n",
    "s3 in s1"
   ]
  },
  {
   "cell_type": "code",
   "execution_count": 28,
   "metadata": {},
   "outputs": [
    {
     "name": "stdout",
     "output_type": "stream",
     "text": [
      "SOCIOLOGY\n"
     ]
    }
   ],
   "source": [
    "#Replacing a substring\n",
    "s1 = s1.replace('IAL', 'IOLOGY')\n",
    "print(s1)"
   ]
  },
  {
   "cell_type": "code",
   "execution_count": 31,
   "metadata": {},
   "outputs": [
    {
     "name": "stdout",
     "output_type": "stream",
     "text": [
      "This statement is true!\n"
     ]
    }
   ],
   "source": [
    "#Control flow: Use comparison and logical operators to state conditions\n",
    "\n",
    "A = 4\n",
    "if A == 4:\n",
    "    print(\"This statement is true!\")\n",
    "else:\n",
    "    print (\"Oh no, this statement is not true!\")\n",
    "    \n",
    "#Whitespace matters!"
   ]
  },
  {
   "cell_type": "code",
   "execution_count": 38,
   "metadata": {},
   "outputs": [
    {
     "ename": "SyntaxError",
     "evalue": "invalid syntax (<ipython-input-38-efca9e5203a3>, line 6)",
     "output_type": "error",
     "traceback": [
      "\u001b[1;36m  File \u001b[1;32m\"<ipython-input-38-efca9e5203a3>\"\u001b[1;36m, line \u001b[1;32m6\u001b[0m\n\u001b[1;33m    if not bedtime and want_tea = True:\u001b[0m\n\u001b[1;37m                                ^\u001b[0m\n\u001b[1;31mSyntaxError\u001b[0m\u001b[1;31m:\u001b[0m invalid syntax\n"
     ]
    }
   ],
   "source": [
    "#Page 34 Brooker book exercise\n",
    "bedtime = False\n",
    "want_tea = True\n",
    "water_in_kettle = False\n",
    "\n",
    "if not bedtime and want_tea = True:\n",
    "    if not water_in_kettle:\n",
    "        print(\"Put water in kettle.\")\n",
    "    print(\"Boil water.\")"
   ]
  },
  {
   "cell_type": "code",
   "execution_count": null,
   "metadata": {},
   "outputs": [],
   "source": [
    "number = input (\"How big is this number?\")\n",
    "number = int(number)\n",
    "\n",
    "if number > 100 and % 2 == 0:\n",
    "    print(\"Stop. I can't even.\")\n",
    "elif number > 100:\n",
    "    print(\"Phew, that's a big number.\")\n",
    "elif number % 2 == 0:\n",
    "    print(\"This one is even.\")\n",
    "else:\n",
    "    print(number)"
   ]
  }
 ],
 "metadata": {
  "kernelspec": {
   "display_name": "Python 3",
   "language": "python",
   "name": "python3"
  },
  "language_info": {
   "codemirror_mode": {
    "name": "ipython",
    "version": 3
   },
   "file_extension": ".py",
   "mimetype": "text/x-python",
   "name": "python",
   "nbconvert_exporter": "python",
   "pygments_lexer": "ipython3",
   "version": "3.7.4"
  }
 },
 "nbformat": 4,
 "nbformat_minor": 2
}
