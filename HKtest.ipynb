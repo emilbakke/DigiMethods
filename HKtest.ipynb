{
 "cells": [
  {
   "cell_type": "code",
   "execution_count": 2,
   "metadata": {
    "ExecuteTime": {
     "end_time": "2020-03-02T13:17:42.738303Z",
     "start_time": "2020-03-02T13:17:42.496511Z"
    }
   },
   "outputs": [
    {
     "name": "stdout",
     "output_type": "stream",
     "text": [
      "An error occured during an HTTP request: HTTP Error 429: Too Many Requests\n",
      "Try to open in browser: https://twitter.com/search?q=%23hongkong%20since%3A2019-08-06%20until%3A2019-08-08&src=typd\n"
     ]
    },
    {
     "ename": "SystemExit",
     "evalue": "",
     "output_type": "error",
     "traceback": [
      "An exception has occurred, use %tb to see the full traceback.\n",
      "\u001b[1;31mSystemExit\u001b[0m\n"
     ]
    }
   ],
   "source": [
    "import GetOldTweets3 as got\n",
    "tweetCriteria = got.manager.TweetCriteria().setQuerySearch('#hongkong').setSince(\"2019-08-06\").setUntil(\"2019-08-08\")\n",
    "tweet = got.manager.TweetManager.getTweets(tweetCriteria)"
   ]
  },
  {
   "cell_type": "code",
   "execution_count": null,
   "metadata": {
    "ExecuteTime": {
     "end_time": "2020-03-02T13:15:21.467869Z",
     "start_time": "2020-03-02T13:15:20.653Z"
    }
   },
   "outputs": [],
   "source": [
    "len(tweet)"
   ]
  },
  {
   "cell_type": "code",
   "execution_count": null,
   "metadata": {
    "ExecuteTime": {
     "end_time": "2020-03-02T13:15:21.467869Z",
     "start_time": "2020-03-02T13:15:20.659Z"
    }
   },
   "outputs": [],
   "source": [
    "list1=[]\n",
    "for tweet in tweets:\n",
    "    list1.append(tweet.text)"
   ]
  },
  {
   "cell_type": "code",
   "execution_count": null,
   "metadata": {
    "ExecuteTime": {
     "end_time": "2020-03-02T13:15:21.467869Z",
     "start_time": "2020-03-02T13:15:20.664Z"
    }
   },
   "outputs": [],
   "source": [
    "def tweet_gist(tweetlist):\n",
    "    word_freq = {}\n",
    "    word_list = []\n",
    "    gist = []\n",
    "    for tweet in list1:\n",
    "        # split up tweets into lists of words\n",
    "        tweet_words = tweet.text.split()\n",
    "        # and combine into one big list using `extend` command\n",
    "        word_list.extend(tweet_words)\n",
    "    \n",
    "    # SECOND, loop through list of words in tweets\n",
    "    for w in word_list:\n",
    "        # add each unique word and its `count` to the dictionary `word_freq`\n",
    "        if w not in word_freq:\n",
    "            word_freq[w] = word_list.count(w)\n",
    "\n",
    "    #looping through the dictionary and adding each value, key pair to the list\n",
    "    for key in word_freq:\n",
    "        gist.append((word_freq[key], key))\n",
    "\n",
    "    #sorting the list\n",
    "    gist.sort()\n",
    "    #reversing the sort to be largest to smallest\n",
    "    gist.reverse()\n",
    "\n",
    "    #returning the list\n",
    "    return gist"
   ]
  },
  {
   "cell_type": "code",
   "execution_count": 3,
   "metadata": {
    "ExecuteTime": {
     "end_time": "2020-03-02T13:44:50.529394Z",
     "start_time": "2020-03-02T13:44:47.701437Z"
    }
   },
   "outputs": [
    {
     "name": "stdout",
     "output_type": "stream",
     "text": [
      "Requirement already satisfied: jupyter_nbextensions_configurator in c:\\users\\emil1\\anaconda3\\lib\\site-packages (0.4.1)\n",
      "Requirement already satisfied: notebook>=4.0 in c:\\users\\emil1\\anaconda3\\lib\\site-packages (from jupyter_nbextensions_configurator) (6.0.1)\n",
      "Requirement already satisfied: traitlets in c:\\users\\emil1\\anaconda3\\lib\\site-packages (from jupyter_nbextensions_configurator) (4.3.3)\n",
      "Requirement already satisfied: pyyaml in c:\\users\\emil1\\anaconda3\\lib\\site-packages (from jupyter_nbextensions_configurator) (5.1.2)\n",
      "Requirement already satisfied: jupyter-core in c:\\users\\emil1\\anaconda3\\lib\\site-packages (from jupyter_nbextensions_configurator) (4.5.0)\n",
      "Requirement already satisfied: tornado in c:\\users\\emil1\\anaconda3\\lib\\site-packages (from jupyter_nbextensions_configurator) (6.0.3)\n",
      "Requirement already satisfied: jupyter-contrib-core>=0.3.3 in c:\\users\\emil1\\anaconda3\\lib\\site-packages (from jupyter_nbextensions_configurator) (0.3.3)\n",
      "Requirement already satisfied: ipython-genutils in c:\\users\\emil1\\anaconda3\\lib\\site-packages (from notebook>=4.0->jupyter_nbextensions_configurator) (0.2.0)\n",
      "Requirement already satisfied: ipykernel in c:\\users\\emil1\\anaconda3\\lib\\site-packages (from notebook>=4.0->jupyter_nbextensions_configurator) (5.1.2)\n",
      "Requirement already satisfied: terminado>=0.8.1 in c:\\users\\emil1\\anaconda3\\lib\\site-packages (from notebook>=4.0->jupyter_nbextensions_configurator) (0.8.2)\n",
      "Requirement already satisfied: Send2Trash in c:\\users\\emil1\\anaconda3\\lib\\site-packages (from notebook>=4.0->jupyter_nbextensions_configurator) (1.5.0)\n",
      "Requirement already satisfied: prometheus-client in c:\\users\\emil1\\anaconda3\\lib\\site-packages (from notebook>=4.0->jupyter_nbextensions_configurator) (0.7.1)\n",
      "Requirement already satisfied: nbconvert in c:\\users\\emil1\\anaconda3\\lib\\site-packages (from notebook>=4.0->jupyter_nbextensions_configurator) (5.6.0)\n",
      "Requirement already satisfied: jinja2 in c:\\users\\emil1\\anaconda3\\lib\\site-packages (from notebook>=4.0->jupyter_nbextensions_configurator) (2.10.3)\n",
      "Requirement already satisfied: nbformat in c:\\users\\emil1\\anaconda3\\lib\\site-packages (from notebook>=4.0->jupyter_nbextensions_configurator) (4.4.0)\n",
      "Requirement already satisfied: pyzmq>=17 in c:\\users\\emil1\\anaconda3\\lib\\site-packages (from notebook>=4.0->jupyter_nbextensions_configurator) (18.1.0)\n",
      "Requirement already satisfied: jupyter-client>=5.3.1 in c:\\users\\emil1\\anaconda3\\lib\\site-packages (from notebook>=4.0->jupyter_nbextensions_configurator) (5.3.3)\n",
      "Requirement already satisfied: decorator in c:\\users\\emil1\\anaconda3\\lib\\site-packages (from traitlets->jupyter_nbextensions_configurator) (4.4.0)\n",
      "Requirement already satisfied: six in c:\\users\\emil1\\anaconda3\\lib\\site-packages (from traitlets->jupyter_nbextensions_configurator) (1.12.0)\n",
      "Requirement already satisfied: setuptools in c:\\users\\emil1\\anaconda3\\lib\\site-packages (from jupyter-contrib-core>=0.3.3->jupyter_nbextensions_configurator) (41.4.0)\n",
      "Requirement already satisfied: ipython>=5.0.0 in c:\\users\\emil1\\anaconda3\\lib\\site-packages (from ipykernel->notebook>=4.0->jupyter_nbextensions_configurator) (7.8.0)\n",
      "Requirement already satisfied: bleach in c:\\users\\emil1\\anaconda3\\lib\\site-packages (from nbconvert->notebook>=4.0->jupyter_nbextensions_configurator) (3.1.0)\n",
      "Requirement already satisfied: pandocfilters>=1.4.1 in c:\\users\\emil1\\anaconda3\\lib\\site-packages (from nbconvert->notebook>=4.0->jupyter_nbextensions_configurator) (1.4.2)\n",
      "Requirement already satisfied: mistune<2,>=0.8.1 in c:\\users\\emil1\\anaconda3\\lib\\site-packages (from nbconvert->notebook>=4.0->jupyter_nbextensions_configurator) (0.8.4)\n",
      "Requirement already satisfied: testpath in c:\\users\\emil1\\anaconda3\\lib\\site-packages (from nbconvert->notebook>=4.0->jupyter_nbextensions_configurator) (0.4.2)\n",
      "Requirement already satisfied: defusedxml in c:\\users\\emil1\\anaconda3\\lib\\site-packages (from nbconvert->notebook>=4.0->jupyter_nbextensions_configurator) (0.6.0)\n",
      "Requirement already satisfied: pygments in c:\\users\\emil1\\anaconda3\\lib\\site-packages (from nbconvert->notebook>=4.0->jupyter_nbextensions_configurator) (2.4.2)\n",
      "Requirement already satisfied: entrypoints>=0.2.2 in c:\\users\\emil1\\anaconda3\\lib\\site-packages (from nbconvert->notebook>=4.0->jupyter_nbextensions_configurator) (0.3)\n",
      "Requirement already satisfied: MarkupSafe>=0.23 in c:\\users\\emil1\\anaconda3\\lib\\site-packages (from jinja2->notebook>=4.0->jupyter_nbextensions_configurator) (1.1.1)\n",
      "Requirement already satisfied: jsonschema!=2.5.0,>=2.4 in c:\\users\\emil1\\anaconda3\\lib\\site-packages (from nbformat->notebook>=4.0->jupyter_nbextensions_configurator) (3.0.2)\n",
      "Requirement already satisfied: python-dateutil>=2.1 in c:\\users\\emil1\\anaconda3\\lib\\site-packages (from jupyter-client>=5.3.1->notebook>=4.0->jupyter_nbextensions_configurator) (2.8.0)\n",
      "Requirement already satisfied: pywin32>=1.0; sys_platform == \"win32\" in c:\\users\\emil1\\anaconda3\\lib\\site-packages (from jupyter-client>=5.3.1->notebook>=4.0->jupyter_nbextensions_configurator) (223)\n",
      "Requirement already satisfied: prompt-toolkit<2.1.0,>=2.0.0 in c:\\users\\emil1\\anaconda3\\lib\\site-packages (from ipython>=5.0.0->ipykernel->notebook>=4.0->jupyter_nbextensions_configurator) (2.0.10)\n",
      "Requirement already satisfied: pickleshare in c:\\users\\emil1\\anaconda3\\lib\\site-packages (from ipython>=5.0.0->ipykernel->notebook>=4.0->jupyter_nbextensions_configurator) (0.7.5)\n",
      "Requirement already satisfied: jedi>=0.10 in c:\\users\\emil1\\anaconda3\\lib\\site-packages (from ipython>=5.0.0->ipykernel->notebook>=4.0->jupyter_nbextensions_configurator) (0.15.1)\n",
      "Requirement already satisfied: backcall in c:\\users\\emil1\\anaconda3\\lib\\site-packages (from ipython>=5.0.0->ipykernel->notebook>=4.0->jupyter_nbextensions_configurator) (0.1.0)\n",
      "Requirement already satisfied: colorama; sys_platform == \"win32\" in c:\\users\\emil1\\anaconda3\\lib\\site-packages (from ipython>=5.0.0->ipykernel->notebook>=4.0->jupyter_nbextensions_configurator) (0.4.1)\n",
      "Requirement already satisfied: webencodings in c:\\users\\emil1\\anaconda3\\lib\\site-packages (from bleach->nbconvert->notebook>=4.0->jupyter_nbextensions_configurator) (0.5.1)\n",
      "Requirement already satisfied: pyrsistent>=0.14.0 in c:\\users\\emil1\\anaconda3\\lib\\site-packages (from jsonschema!=2.5.0,>=2.4->nbformat->notebook>=4.0->jupyter_nbextensions_configurator) (0.15.4)\n",
      "Requirement already satisfied: attrs>=17.4.0 in c:\\users\\emil1\\anaconda3\\lib\\site-packages (from jsonschema!=2.5.0,>=2.4->nbformat->notebook>=4.0->jupyter_nbextensions_configurator) (19.2.0)\n",
      "Requirement already satisfied: wcwidth in c:\\users\\emil1\\anaconda3\\lib\\site-packages (from prompt-toolkit<2.1.0,>=2.0.0->ipython>=5.0.0->ipykernel->notebook>=4.0->jupyter_nbextensions_configurator) (0.1.7)\n",
      "Requirement already satisfied: parso>=0.5.0 in c:\\users\\emil1\\anaconda3\\lib\\site-packages (from jedi>=0.10->ipython>=5.0.0->ipykernel->notebook>=4.0->jupyter_nbextensions_configurator) (0.5.1)\n"
     ]
    }
   ],
   "source": [
    "! pip install jupyter_nbextensions_configurator"
   ]
  },
  {
   "cell_type": "code",
   "execution_count": 4,
   "metadata": {
    "ExecuteTime": {
     "end_time": "2020-03-02T13:45:09.969566Z",
     "start_time": "2020-03-02T13:45:08.752753Z"
    }
   },
   "outputs": [],
   "source": [
    "! jupyter nbextensions_configurator enable --user"
   ]
  },
  {
   "cell_type": "code",
   "execution_count": null,
   "metadata": {},
   "outputs": [],
   "source": []
  }
 ],
 "metadata": {
  "kernelspec": {
   "display_name": "Python 3",
   "language": "python",
   "name": "python3"
  },
  "language_info": {
   "codemirror_mode": {
    "name": "ipython",
    "version": 3
   },
   "file_extension": ".py",
   "mimetype": "text/x-python",
   "name": "python",
   "nbconvert_exporter": "python",
   "pygments_lexer": "ipython3",
   "version": "3.7.4"
  }
 },
 "nbformat": 4,
 "nbformat_minor": 2
}
