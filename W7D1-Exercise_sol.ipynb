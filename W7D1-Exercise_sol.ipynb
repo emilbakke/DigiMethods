{
 "cells": [
  {
   "cell_type": "markdown",
   "metadata": {},
   "source": [
    "# Exercise W7D1: Review and Putting it All Together\n",
    "\n",
    "This exercise aims to draw together the topics we have covered in the _Base Camp_ portion of the Digital Methods class. At the end of the exercise, you should have a `DataFrame` with each row containing information on a Twitter account including their tweets, friends, followers, hashtags and mentions as well as some descriptive statistics.\n",
    "\n",
    "You will be able to reuse and modify this code for the second half of digital methods to download and analyze tweets for your projects. So, this exercise should provide you with a solid review of different things we have learned and help you for the the rest of the course."
   ]
  },
  {
   "cell_type": "markdown",
   "metadata": {},
   "source": [
    "**Exercise 1. Identify a topic, authenticate, and get data.** First, identify a topic of interest to you and think about a keyword or hashtag capturing the topic. Possible topics could be Corona or Climate, but you are welcome to choose something else. Then load the `tweepy` module and use the built-in functionality to `search` Twitter for your keyword or hashtag. Create a variable that contains the data returned by your search.\n",
    "\n",
    "See [here](http://docs.tweepy.org/en/latest/api.html#help-methods) for more information about the `search` method."
   ]
  },
  {
   "cell_type": "markdown",
   "metadata": {},
   "source": [
    "Now we have an object containing a number of tweets pertaining to our topic of interest. As you might remember, by default the Twitter API returns the data to us in JSON format. Now that we know about the elegance and beauty of `DataFrames`, we would prefer to work with that format of data rather than a dictionary-style JSON. "
   ]
  },
  {
   "cell_type": "markdown",
   "metadata": {},
   "source": [
    "**Exercise 2. Turn raw API data into a DataFrame.** Your search returned a set of tweets about your chosen topic. Construct a `DataFrame` from your Twitter search object of the people who are tweeting about that topic that, at minimum, contains the unique `screen_names`, `followers_count`, `friends_count`, and `statuses_count` returned from your search. \n",
    "\n",
    "There are a number of ways to do this so you might want to review how to construct `DataFrames` (W6D1-Demo). You may also want to review navigating JSON objects (W4D2-Exercise_solutions). Also, your returned data might include the same account multiple times, so you will want to make sure that you are listing the account only once in your `DataFrame`."
   ]
  },
  {
   "cell_type": "markdown",
   "metadata": {},
   "source": [
    "With our neat `DataFrame` we can now easily find out details about the data we collected from Twitter."
   ]
  },
  {
   "cell_type": "markdown",
   "metadata": {},
   "source": [
    "**Exercise 3. Get information about our data.** Use the `print` function and string operations to make Python tell you in plain language: a) How many unique accounts there are in your data, b) what the name of the _last_ account in your data is, and c) what the sum of followers is for all accounts in your data. That is make Python print out full sentences with the relevant information."
   ]
  },
  {
   "cell_type": "markdown",
   "metadata": {},
   "source": [
    "**Exercise 4. Adding data to our DataFrame.** Loop through the indices of your `DataFrame`, collect the timeline for each account using the `user_timeline` method from tweepy, and store them in a new list \"timelines\". Note that you will want to build in some `sleep` time to avoid running into rate limits. You can find the syntax for how to do this on page 155 and the logic and examples on pages 209-12 in Brooker (2020)."
   ]
  },
  {
   "cell_type": "markdown",
   "metadata": {},
   "source": [
    "Add your list \"timelines\" to your current `DataFame`. To do this, we first need to turn our list into a new `DateFrame` with one column labeled `timelines` and then join our two `DateFrames` horizontally, i.e. along `axis = 1`."
   ]
  },
  {
   "cell_type": "markdown",
   "metadata": {},
   "source": [
    "### Take a deep breath. This was a major piece of coding. "
   ]
  },
  {
   "cell_type": "markdown",
   "metadata": {},
   "source": [
    "Now you have the timeline, that is the statuses, for each of your accounts in the `DataFrame`. But these are still in the raw format which the Twitter API returns, so we need to transform them into a format that allows us to to work with them more easily. In the end, we want to get at the the topics and persons our accounts tweet about."
   ]
  },
  {
   "cell_type": "markdown",
   "metadata": {},
   "source": [
    "**Exercise 5. Getting the tweet texts from the timeline.** Extract the text from the tweets in each account's timeline, combine them into a list, turn the list of lists into a `DataFrame`, and join the new and old `DataFrames`. One way to do this is to 1) create an empty list 'tweets', 2) loop through the indices in your `DataFrame`, 3) for each index/row loop through the timeline, 4) create a temporary list, append the text for each timeline element to that list, then append the temporary list to 'tweets' 5) turn the list into a `DataFrame` and 6) merge the two `DataFrames` horizontally."
   ]
  },
  {
   "cell_type": "markdown",
   "metadata": {},
   "source": [
    "**Exercise 6. Turning our list of tweet texts into a long string.** To get a sense of what our accounts usually tweet about, it might be useful to have their tweets in one long string that allows us to easily count the words they use. Create a list that holds the long string of tweets for each user. We can concatenate our list of tweets/strings using the [join](https://docs.python.org/2/library/string.html#string.join) command for which you can find a usage example [here](https://stackoverflow.com/a/493842).\n",
    "\n",
    "Turn the list into a `DataFrame` and merge it with your main `DataFrame` horizontally. "
   ]
  },
  {
   "cell_type": "markdown",
   "metadata": {},
   "source": [
    "**Exercise 7. Finding hashtags and mentions.** Now that we have all the tweets for each account in one long string, we can start looking at the topics the accounts are tweeting about and who they are interacting with. To do so, you can use the [`findall`](https://docs.python.org/3/library/re.html#re.findall) function from the `re` package to extract all hashtags (starting with a \"#\") and mentions (starting with an \"@\"). Add one column for hashtags and mentions respectively to your `DataFrame`."
   ]
  },
  {
   "cell_type": "markdown",
   "metadata": {},
   "source": [
    "**Exercise 8. Writing your insights to a file.** You have just generated some really awesome insights about the accounts you identified earlier. To share your insights, that is the topics/hashtags your accounts tweet about, you should now write the hashtags to a text file–if you want to remind yourself, we covered this in week 3 day 1. Can you make it so the text file first lists the name and then the hashtags the account uses?"
   ]
  },
  {
   "cell_type": "markdown",
   "metadata": {},
   "source": [
    "**Exercise 9. Descriptive statistics about your accounts.** We closed last week with talking about descriptive statistics. For the accounts you gathered, there are at least three variables that you might be interested to know more about. What are the minimum, maximum, and mean for the number of followers, friends, and posted statuses in you data?"
   ]
  },
  {
   "cell_type": "markdown",
   "metadata": {},
   "source": [
    "**Exercise 10. Visualizing influence.** To round off this exercise, let's plot some data from the accounts you collected. Make a bar plot to show which of the accounts has the most influence on Twitter. _Hint:_ You might want to look at `followers_count`."
   ]
  },
  {
   "cell_type": "markdown",
   "metadata": {},
   "source": [
    "**Exercise 11. Understanding influence.** Now that you know who is most influential among your accounts, try to see if the data you get from Twitter allows you to explore what might explain that influence. Look into your data and plot the follower count against another variable. Is there a pattern?"
   ]
  },
  {
   "cell_type": "markdown",
   "metadata": {},
   "source": [
    "**THERE IS ALWAYS MORE.** If you got all the way through this exercise and are still hungry for more, here are some suggestions for other things you could do:\n",
    "\n",
    "1. To get an even better sense of what your accounts tweet about than just using hashtags, you could count the most used words. Create a list that, for each account has a dictionary of the frequency of each word with stop words removed. Remember, you can reuse your code from W3D1. You can get a list of stop words from [here](http://ir.dcs.gla.ac.uk/resources/linguistic_utils/stop_words). These are also stored in `stop_words.txt`. Add a column to your dataframe for most used words. \n",
    "2. Extract the number of favorites and retweets from the timelines you gathered. Is there any relationship between the number of followers and these figures? How about between these figures and the number of friends?\n",
    "3. Researchers often use Twitter because we can do respondent-driven sampling, i.e. we start with a few accounts and then collect the accounts that follow these accounts to get a broader picture of the network. Start exploring the networks of the accounts you collected using the [`followers`](https://tweepy.readthedocs.io/en/latest/api.html#API.followers) command.\n",
    "4. Given that the accounts you collected are similar in that they tweet about your topic of choice, it might be interesting know if there are issues that distinguish the accounts. Researchers often use term frequency-inverse document frequency to study such differences. [Here](https://www.freecodecamp.org/news/how-to-process-textual-data-using-tf-idf-in-python-cd2bbc0a94a3/) is a primer on the concept and a tutorial on how to implement it in Python. Can you find distinguishes your accounts from one another?"
   ]
  },
  {
   "cell_type": "markdown",
   "metadata": {},
   "source": [
    "## EXAMPLE SOLUTIONS"
   ]
  },
  {
   "cell_type": "markdown",
   "metadata": {},
   "source": [
    "**Exercise 1**"
   ]
  },
  {
   "cell_type": "code",
   "execution_count": 2,
   "metadata": {},
   "outputs": [],
   "source": [
    "# we start by importing the tweepy module and loading our twitter credentials\n",
    "# remember that the AppCred file needs to be in the same folder as your notebook\n",
    "import tweepy\n",
    "from AppCred import CONSUMER_KEY, CONSUMER_SECRET\n",
    "from AppCred import ACCESS_TOKEN, ACCESS_TOKEN_SECRET"
   ]
  },
  {
   "cell_type": "code",
   "execution_count": 3,
   "metadata": {},
   "outputs": [],
   "source": [
    "# then we set up our authentication to the twitter api\n",
    "# and create an object that allows us to interface with the api\n",
    "auth = tweepy.OAuthHandler(CONSUMER_KEY, CONSUMER_SECRET)\n",
    "auth.set_access_token(ACCESS_TOKEN, ACCESS_TOKEN_SECRET)\n",
    "api = tweepy.API(auth)"
   ]
  },
  {
   "cell_type": "code",
   "execution_count": 4,
   "metadata": {},
   "outputs": [],
   "source": [
    "# now, we can use the `search` method to look around twitter for our keyword\n",
    "# and store the returned data in an object we call `euro2020_tweets`\n",
    "e2020_tweets = api.search(\"#EURO2020\")"
   ]
  },
  {
   "cell_type": "markdown",
   "metadata": {},
   "source": [
    "**Exercise 2**"
   ]
  },
  {
   "cell_type": "code",
   "execution_count": 8,
   "metadata": {},
   "outputs": [],
   "source": [
    "import numpy as np\n",
    "import pandas as pd"
   ]
  },
  {
   "cell_type": "code",
   "execution_count": 9,
   "metadata": {},
   "outputs": [],
   "source": [
    "names = []\n",
    "screen_names = []\n",
    "id_str = []\n",
    "location = []\n",
    "description = []\n",
    "followers_count = []\n",
    "friends_count = []\n",
    "statuses_count = []\n",
    "created_at = []\n",
    "\n",
    "\n",
    "for tweet in e2020_tweets:\n",
    "    if (tweet._json['user']['screen_name'] not in screen_names):\n",
    "        names.append(tweet._json['user']['name'])\n",
    "        screen_names.append(tweet._json['user']['screen_name'])\n",
    "        id_str.append(tweet._json['user']['id'])\n",
    "        location.append(tweet._json['user']['location'])\n",
    "        description.append(tweet._json['user']['description'])\n",
    "        followers_count.append(tweet._json['user']['followers_count'])\n",
    "        friends_count.append(tweet._json['user']['friends_count'])\n",
    "        statuses_count.append(tweet._json['user']['statuses_count'])\n",
    "        created_at.append(tweet._json['user']['created_at'])"
   ]
  },
  {
   "cell_type": "code",
   "execution_count": 10,
   "metadata": {},
   "outputs": [],
   "source": [
    "e2020_dictionary = {\n",
    "    \"name\": names,\n",
    "    \"screen_name\": screen_names,\n",
    "    \"id_str\": id_str,\n",
    "    \"location\": location,\n",
    "    \"description\": description,\n",
    "    \"followers_count\": followers_count,\n",
    "    \"friends_count\": friends_count,\n",
    "    \"statuses_count\": statuses_count,\n",
    "    \"created_at\": created_at\n",
    "}\n",
    "\n",
    "e2020_df = pd.DataFrame(e2020_dictionary)"
   ]
  },
  {
   "cell_type": "markdown",
   "metadata": {},
   "source": [
    "**Exercise 3**"
   ]
  },
  {
   "cell_type": "code",
   "execution_count": 11,
   "metadata": {},
   "outputs": [
    {
     "name": "stdout",
     "output_type": "stream",
     "text": [
      "a) There are 15 unique accounts in the data.\n",
      "b) The last account in my data is called lawrence\n",
      "c) The accounts in my data have a total of 133809 followers.\n"
     ]
    }
   ],
   "source": [
    "print(\"a) There are \" + str(e2020_df.name.count()) + \" unique accounts in the data.\")\n",
    "print(\"b) The last account in my data is called \" + str(e2020_df.name[12]))\n",
    "print(\"c) The accounts in my data have a total of \" + str(sum(e2020_df.followers_count)) + \" followers.\")"
   ]
  },
  {
   "cell_type": "markdown",
   "metadata": {},
   "source": [
    "**Exercise 4**"
   ]
  },
  {
   "cell_type": "code",
   "execution_count": 12,
   "metadata": {},
   "outputs": [],
   "source": [
    "import time"
   ]
  },
  {
   "cell_type": "code",
   "execution_count": 13,
   "metadata": {
    "scrolled": true
   },
   "outputs": [
    {
     "name": "stdout",
     "output_type": "stream",
     "text": [
      "0\n",
      "1\n",
      "2\n",
      "3\n",
      "4\n",
      "5\n",
      "6\n",
      "7\n",
      "8\n",
      "9\n",
      "10\n",
      "11\n",
      "12\n",
      "13\n",
      "14\n"
     ]
    }
   ],
   "source": [
    "timeline = []\n",
    "\n",
    "for i in e2020_df.index:\n",
    "    statuses = api.user_timeline(e2020_df.screen_name[i])\n",
    "    timeline.append(statuses)\n",
    "    time.sleep(5)\n",
    "    print(i)"
   ]
  },
  {
   "cell_type": "code",
   "execution_count": 16,
   "metadata": {},
   "outputs": [
    {
     "data": {
      "text/html": [
       "<div>\n",
       "<style scoped>\n",
       "    .dataframe tbody tr th:only-of-type {\n",
       "        vertical-align: middle;\n",
       "    }\n",
       "\n",
       "    .dataframe tbody tr th {\n",
       "        vertical-align: top;\n",
       "    }\n",
       "\n",
       "    .dataframe thead th {\n",
       "        text-align: right;\n",
       "    }\n",
       "</style>\n",
       "<table border=\"1\" class=\"dataframe\">\n",
       "  <thead>\n",
       "    <tr style=\"text-align: right;\">\n",
       "      <th></th>\n",
       "      <th>name</th>\n",
       "      <th>screen_name</th>\n",
       "      <th>id_str</th>\n",
       "      <th>location</th>\n",
       "      <th>description</th>\n",
       "      <th>followers_count</th>\n",
       "      <th>friends_count</th>\n",
       "      <th>statuses_count</th>\n",
       "      <th>created_at</th>\n",
       "      <th>timelines</th>\n",
       "      <th>timelines</th>\n",
       "      <th>timelines</th>\n",
       "    </tr>\n",
       "  </thead>\n",
       "  <tbody>\n",
       "    <tr>\n",
       "      <th>0</th>\n",
       "      <td>Polsat Sport</td>\n",
       "      <td>polsatsport</td>\n",
       "      <td>1111576250</td>\n",
       "      <td>Polska</td>\n",
       "      <td>Oficjalne konto serwisu Polsatsport.pl.</td>\n",
       "      <td>56728</td>\n",
       "      <td>426</td>\n",
       "      <td>49402</td>\n",
       "      <td>Tue Jan 22 13:38:59 +0000 2013</td>\n",
       "      <td>[Status(_api=&lt;tweepy.api.API object at 0x00000...</td>\n",
       "      <td>[Status(_api=&lt;tweepy.api.API object at 0x00000...</td>\n",
       "      <td>[Status(_api=&lt;tweepy.api.API object at 0x00000...</td>\n",
       "    </tr>\n",
       "    <tr>\n",
       "      <th>1</th>\n",
       "      <td>Magarya #MNCH 🇳🇬</td>\n",
       "      <td>magarya</td>\n",
       "      <td>41401964</td>\n",
       "      <td>#next1000days #Race4Survival</td>\n",
       "      <td>PRO with NYSC, I tweet and Re Tweet. I love in...</td>\n",
       "      <td>3948</td>\n",
       "      <td>4931</td>\n",
       "      <td>432294</td>\n",
       "      <td>Wed May 20 17:17:03 +0000 2009</td>\n",
       "      <td>[Status(_api=&lt;tweepy.api.API object at 0x00000...</td>\n",
       "      <td>[Status(_api=&lt;tweepy.api.API object at 0x00000...</td>\n",
       "      <td>[Status(_api=&lt;tweepy.api.API object at 0x00000...</td>\n",
       "    </tr>\n",
       "    <tr>\n",
       "      <th>2</th>\n",
       "      <td>Andreas Kraul</td>\n",
       "      <td>KraulDR</td>\n",
       "      <td>154180801</td>\n",
       "      <td>Denmark</td>\n",
       "      <td>Journalist og kommentator på @drsporten</td>\n",
       "      <td>49751</td>\n",
       "      <td>1728</td>\n",
       "      <td>11560</td>\n",
       "      <td>Thu Jun 10 15:50:41 +0000 2010</td>\n",
       "      <td>[Status(_api=&lt;tweepy.api.API object at 0x00000...</td>\n",
       "      <td>[Status(_api=&lt;tweepy.api.API object at 0x00000...</td>\n",
       "      <td>[Status(_api=&lt;tweepy.api.API object at 0x00000...</td>\n",
       "    </tr>\n",
       "    <tr>\n",
       "      <th>3</th>\n",
       "      <td>Reverse Flash</td>\n",
       "      <td>ashutoshnegi007</td>\n",
       "      <td>599823552</td>\n",
       "      <td>UK</td>\n",
       "      <td>mechanical Engineer..LFC &amp; DC is life.</td>\n",
       "      <td>727</td>\n",
       "      <td>5001</td>\n",
       "      <td>46777</td>\n",
       "      <td>Tue Jun 05 02:10:56 +0000 2012</td>\n",
       "      <td>[Status(_api=&lt;tweepy.api.API object at 0x00000...</td>\n",
       "      <td>[Status(_api=&lt;tweepy.api.API object at 0x00000...</td>\n",
       "      <td>[Status(_api=&lt;tweepy.api.API object at 0x00000...</td>\n",
       "    </tr>\n",
       "    <tr>\n",
       "      <th>4</th>\n",
       "      <td>Rinaldo Bianco</td>\n",
       "      <td>BiancoRinaldo</td>\n",
       "      <td>797184870</td>\n",
       "      <td></td>\n",
       "      <td></td>\n",
       "      <td>950</td>\n",
       "      <td>1102</td>\n",
       "      <td>49645</td>\n",
       "      <td>Sun Sep 02 00:43:50 +0000 2012</td>\n",
       "      <td>[Status(_api=&lt;tweepy.api.API object at 0x00000...</td>\n",
       "      <td>[Status(_api=&lt;tweepy.api.API object at 0x00000...</td>\n",
       "      <td>[Status(_api=&lt;tweepy.api.API object at 0x00000...</td>\n",
       "    </tr>\n",
       "    <tr>\n",
       "      <th>5</th>\n",
       "      <td>mlkmls 💯</td>\n",
       "      <td>mlkmls_</td>\n",
       "      <td>1577017578</td>\n",
       "      <td>Dortmund, Deutschland</td>\n",
       "      <td>enormes Tempodefizit, kann keine großen Räume ...</td>\n",
       "      <td>1342</td>\n",
       "      <td>306</td>\n",
       "      <td>3711</td>\n",
       "      <td>Mon Jul 08 07:46:24 +0000 2013</td>\n",
       "      <td>[Status(_api=&lt;tweepy.api.API object at 0x00000...</td>\n",
       "      <td>[Status(_api=&lt;tweepy.api.API object at 0x00000...</td>\n",
       "      <td>[Status(_api=&lt;tweepy.api.API object at 0x00000...</td>\n",
       "    </tr>\n",
       "    <tr>\n",
       "      <th>6</th>\n",
       "      <td>Ricardo</td>\n",
       "      <td>Riiici94</td>\n",
       "      <td>177934229</td>\n",
       "      <td></td>\n",
       "      <td></td>\n",
       "      <td>3</td>\n",
       "      <td>75</td>\n",
       "      <td>3</td>\n",
       "      <td>Fri Aug 13 12:52:03 +0000 2010</td>\n",
       "      <td>[Status(_api=&lt;tweepy.api.API object at 0x00000...</td>\n",
       "      <td>[Status(_api=&lt;tweepy.api.API object at 0x00000...</td>\n",
       "      <td>[Status(_api=&lt;tweepy.api.API object at 0x00000...</td>\n",
       "    </tr>\n",
       "    <tr>\n",
       "      <th>7</th>\n",
       "      <td>Joel Otou</td>\n",
       "      <td>OtouEbandaBienv</td>\n",
       "      <td>523553567</td>\n",
       "      <td>Cameroun</td>\n",
       "      <td>- Cool\\n- Ingénieur Polytechnicien (électroméc...</td>\n",
       "      <td>63</td>\n",
       "      <td>761</td>\n",
       "      <td>7363</td>\n",
       "      <td>Tue Mar 13 18:53:14 +0000 2012</td>\n",
       "      <td>[Status(_api=&lt;tweepy.api.API object at 0x00000...</td>\n",
       "      <td>[Status(_api=&lt;tweepy.api.API object at 0x00000...</td>\n",
       "      <td>[Status(_api=&lt;tweepy.api.API object at 0x00000...</td>\n",
       "    </tr>\n",
       "    <tr>\n",
       "      <th>8</th>\n",
       "      <td>Salem Al Dossari</td>\n",
       "      <td>SalemMesfer1</td>\n",
       "      <td>812899726500605952</td>\n",
       "      <td>إستغفِر الله و اتوب إليه</td>\n",
       "      <td>اللهم صلِّ و سلم على نبينا محمدﷺ LFC || FCiM |...</td>\n",
       "      <td>403</td>\n",
       "      <td>220</td>\n",
       "      <td>87490</td>\n",
       "      <td>Sun Dec 25 05:56:12 +0000 2016</td>\n",
       "      <td>[Status(_api=&lt;tweepy.api.API object at 0x00000...</td>\n",
       "      <td>[Status(_api=&lt;tweepy.api.API object at 0x00000...</td>\n",
       "      <td>[Status(_api=&lt;tweepy.api.API object at 0x00000...</td>\n",
       "    </tr>\n",
       "    <tr>\n",
       "      <th>9</th>\n",
       "      <td>Vx_Ira 🍟🍫</td>\n",
       "      <td>VxvxIra</td>\n",
       "      <td>1155207682233704451</td>\n",
       "      <td>Abidjan Cote d’Ivoire 🇨🇮</td>\n",
       "      <td>🇨🇮...</td>\n",
       "      <td>97</td>\n",
       "      <td>138</td>\n",
       "      <td>270</td>\n",
       "      <td>Sat Jul 27 20:05:48 +0000 2019</td>\n",
       "      <td>[Status(_api=&lt;tweepy.api.API object at 0x00000...</td>\n",
       "      <td>[Status(_api=&lt;tweepy.api.API object at 0x00000...</td>\n",
       "      <td>[Status(_api=&lt;tweepy.api.API object at 0x00000...</td>\n",
       "    </tr>\n",
       "    <tr>\n",
       "      <th>10</th>\n",
       "      <td>Rafa Gálvez Entrena</td>\n",
       "      <td>Rafa_C_G_E</td>\n",
       "      <td>1013280385</td>\n",
       "      <td>Montefrío(Granada)</td>\n",
       "      <td>Hater.Sé difular.Madridista y granadinista.Muc...</td>\n",
       "      <td>1110</td>\n",
       "      <td>1203</td>\n",
       "      <td>736015</td>\n",
       "      <td>Sat Dec 15 14:02:54 +0000 2012</td>\n",
       "      <td>[Status(_api=&lt;tweepy.api.API object at 0x00000...</td>\n",
       "      <td>[Status(_api=&lt;tweepy.api.API object at 0x00000...</td>\n",
       "      <td>[Status(_api=&lt;tweepy.api.API object at 0x00000...</td>\n",
       "    </tr>\n",
       "    <tr>\n",
       "      <th>11</th>\n",
       "      <td>CANAL+ SPORT Afrique</td>\n",
       "      <td>cplussportafr</td>\n",
       "      <td>1062292964003717121</td>\n",
       "      <td></td>\n",
       "      <td>Les plus belles compétitions sont sur les chai...</td>\n",
       "      <td>16694</td>\n",
       "      <td>254</td>\n",
       "      <td>3814</td>\n",
       "      <td>Tue Nov 13 10:35:53 +0000 2018</td>\n",
       "      <td>[Status(_api=&lt;tweepy.api.API object at 0x00000...</td>\n",
       "      <td>[Status(_api=&lt;tweepy.api.API object at 0x00000...</td>\n",
       "      <td>[Status(_api=&lt;tweepy.api.API object at 0x00000...</td>\n",
       "    </tr>\n",
       "    <tr>\n",
       "      <th>12</th>\n",
       "      <td>lawrence</td>\n",
       "      <td>CaselliLorenzo</td>\n",
       "      <td>719826149</td>\n",
       "      <td>San Marino</td>\n",
       "      <td></td>\n",
       "      <td>357</td>\n",
       "      <td>576</td>\n",
       "      <td>88056</td>\n",
       "      <td>Thu Oct 17 21:38:37 +0000 2013</td>\n",
       "      <td>[Status(_api=&lt;tweepy.api.API object at 0x00000...</td>\n",
       "      <td>[Status(_api=&lt;tweepy.api.API object at 0x00000...</td>\n",
       "      <td>[Status(_api=&lt;tweepy.api.API object at 0x00000...</td>\n",
       "    </tr>\n",
       "    <tr>\n",
       "      <th>13</th>\n",
       "      <td>Ignacio Naya</td>\n",
       "      <td>NayaIgnacio</td>\n",
       "      <td>1000105124084187136</td>\n",
       "      <td>Zaragoza, España</td>\n",
       "      <td>Periodista.</td>\n",
       "      <td>250</td>\n",
       "      <td>811</td>\n",
       "      <td>690</td>\n",
       "      <td>Fri May 25 20:03:37 +0000 2018</td>\n",
       "      <td>[Status(_api=&lt;tweepy.api.API object at 0x00000...</td>\n",
       "      <td>[Status(_api=&lt;tweepy.api.API object at 0x00000...</td>\n",
       "      <td>[Status(_api=&lt;tweepy.api.API object at 0x00000...</td>\n",
       "    </tr>\n",
       "    <tr>\n",
       "      <th>14</th>\n",
       "      <td>Ege Avcıoğlu</td>\n",
       "      <td>egeavcioglu</td>\n",
       "      <td>404039299</td>\n",
       "      <td>Gümüşlük, Bodrum</td>\n",
       "      <td>Yok öyle umutları yitirip karanlıkta savrulmak...</td>\n",
       "      <td>1386</td>\n",
       "      <td>908</td>\n",
       "      <td>259134</td>\n",
       "      <td>Thu Nov 03 10:53:36 +0000 2011</td>\n",
       "      <td>[Status(_api=&lt;tweepy.api.API object at 0x00000...</td>\n",
       "      <td>[Status(_api=&lt;tweepy.api.API object at 0x00000...</td>\n",
       "      <td>[Status(_api=&lt;tweepy.api.API object at 0x00000...</td>\n",
       "    </tr>\n",
       "  </tbody>\n",
       "</table>\n",
       "</div>"
      ],
      "text/plain": [
       "                    name      screen_name               id_str  \\\n",
       "0           Polsat Sport      polsatsport           1111576250   \n",
       "1       Magarya #MNCH 🇳🇬          magarya             41401964   \n",
       "2          Andreas Kraul          KraulDR            154180801   \n",
       "3          Reverse Flash  ashutoshnegi007            599823552   \n",
       "4         Rinaldo Bianco    BiancoRinaldo            797184870   \n",
       "5               mlkmls 💯          mlkmls_           1577017578   \n",
       "6                Ricardo         Riiici94            177934229   \n",
       "7              Joel Otou  OtouEbandaBienv            523553567   \n",
       "8       Salem Al Dossari     SalemMesfer1   812899726500605952   \n",
       "9              Vx_Ira 🍟🍫          VxvxIra  1155207682233704451   \n",
       "10   Rafa Gálvez Entrena       Rafa_C_G_E           1013280385   \n",
       "11  CANAL+ SPORT Afrique    cplussportafr  1062292964003717121   \n",
       "12              lawrence   CaselliLorenzo            719826149   \n",
       "13          Ignacio Naya      NayaIgnacio  1000105124084187136   \n",
       "14          Ege Avcıoğlu      egeavcioglu            404039299   \n",
       "\n",
       "                        location  \\\n",
       "0                         Polska   \n",
       "1   #next1000days #Race4Survival   \n",
       "2                        Denmark   \n",
       "3                             UK   \n",
       "4                                  \n",
       "5          Dortmund, Deutschland   \n",
       "6                                  \n",
       "7                       Cameroun   \n",
       "8       إستغفِر الله و اتوب إليه   \n",
       "9       Abidjan Cote d’Ivoire 🇨🇮   \n",
       "10            Montefrío(Granada)   \n",
       "11                                 \n",
       "12                    San Marino   \n",
       "13              Zaragoza, España   \n",
       "14              Gümüşlük, Bodrum   \n",
       "\n",
       "                                          description  followers_count  \\\n",
       "0             Oficjalne konto serwisu Polsatsport.pl.            56728   \n",
       "1   PRO with NYSC, I tweet and Re Tweet. I love in...             3948   \n",
       "2             Journalist og kommentator på @drsporten            49751   \n",
       "3              mechanical Engineer..LFC & DC is life.              727   \n",
       "4                                                                  950   \n",
       "5   enormes Tempodefizit, kann keine großen Räume ...             1342   \n",
       "6                                                                    3   \n",
       "7   - Cool\\n- Ingénieur Polytechnicien (électroméc...               63   \n",
       "8   اللهم صلِّ و سلم على نبينا محمدﷺ LFC || FCiM |...              403   \n",
       "9                                               🇨🇮...               97   \n",
       "10  Hater.Sé difular.Madridista y granadinista.Muc...             1110   \n",
       "11  Les plus belles compétitions sont sur les chai...            16694   \n",
       "12                                                                 357   \n",
       "13                                        Periodista.              250   \n",
       "14  Yok öyle umutları yitirip karanlıkta savrulmak...             1386   \n",
       "\n",
       "    friends_count  statuses_count                      created_at  \\\n",
       "0             426           49402  Tue Jan 22 13:38:59 +0000 2013   \n",
       "1            4931          432294  Wed May 20 17:17:03 +0000 2009   \n",
       "2            1728           11560  Thu Jun 10 15:50:41 +0000 2010   \n",
       "3            5001           46777  Tue Jun 05 02:10:56 +0000 2012   \n",
       "4            1102           49645  Sun Sep 02 00:43:50 +0000 2012   \n",
       "5             306            3711  Mon Jul 08 07:46:24 +0000 2013   \n",
       "6              75               3  Fri Aug 13 12:52:03 +0000 2010   \n",
       "7             761            7363  Tue Mar 13 18:53:14 +0000 2012   \n",
       "8             220           87490  Sun Dec 25 05:56:12 +0000 2016   \n",
       "9             138             270  Sat Jul 27 20:05:48 +0000 2019   \n",
       "10           1203          736015  Sat Dec 15 14:02:54 +0000 2012   \n",
       "11            254            3814  Tue Nov 13 10:35:53 +0000 2018   \n",
       "12            576           88056  Thu Oct 17 21:38:37 +0000 2013   \n",
       "13            811             690  Fri May 25 20:03:37 +0000 2018   \n",
       "14            908          259134  Thu Nov 03 10:53:36 +0000 2011   \n",
       "\n",
       "                                            timelines  \\\n",
       "0   [Status(_api=<tweepy.api.API object at 0x00000...   \n",
       "1   [Status(_api=<tweepy.api.API object at 0x00000...   \n",
       "2   [Status(_api=<tweepy.api.API object at 0x00000...   \n",
       "3   [Status(_api=<tweepy.api.API object at 0x00000...   \n",
       "4   [Status(_api=<tweepy.api.API object at 0x00000...   \n",
       "5   [Status(_api=<tweepy.api.API object at 0x00000...   \n",
       "6   [Status(_api=<tweepy.api.API object at 0x00000...   \n",
       "7   [Status(_api=<tweepy.api.API object at 0x00000...   \n",
       "8   [Status(_api=<tweepy.api.API object at 0x00000...   \n",
       "9   [Status(_api=<tweepy.api.API object at 0x00000...   \n",
       "10  [Status(_api=<tweepy.api.API object at 0x00000...   \n",
       "11  [Status(_api=<tweepy.api.API object at 0x00000...   \n",
       "12  [Status(_api=<tweepy.api.API object at 0x00000...   \n",
       "13  [Status(_api=<tweepy.api.API object at 0x00000...   \n",
       "14  [Status(_api=<tweepy.api.API object at 0x00000...   \n",
       "\n",
       "                                            timelines  \\\n",
       "0   [Status(_api=<tweepy.api.API object at 0x00000...   \n",
       "1   [Status(_api=<tweepy.api.API object at 0x00000...   \n",
       "2   [Status(_api=<tweepy.api.API object at 0x00000...   \n",
       "3   [Status(_api=<tweepy.api.API object at 0x00000...   \n",
       "4   [Status(_api=<tweepy.api.API object at 0x00000...   \n",
       "5   [Status(_api=<tweepy.api.API object at 0x00000...   \n",
       "6   [Status(_api=<tweepy.api.API object at 0x00000...   \n",
       "7   [Status(_api=<tweepy.api.API object at 0x00000...   \n",
       "8   [Status(_api=<tweepy.api.API object at 0x00000...   \n",
       "9   [Status(_api=<tweepy.api.API object at 0x00000...   \n",
       "10  [Status(_api=<tweepy.api.API object at 0x00000...   \n",
       "11  [Status(_api=<tweepy.api.API object at 0x00000...   \n",
       "12  [Status(_api=<tweepy.api.API object at 0x00000...   \n",
       "13  [Status(_api=<tweepy.api.API object at 0x00000...   \n",
       "14  [Status(_api=<tweepy.api.API object at 0x00000...   \n",
       "\n",
       "                                            timelines  \n",
       "0   [Status(_api=<tweepy.api.API object at 0x00000...  \n",
       "1   [Status(_api=<tweepy.api.API object at 0x00000...  \n",
       "2   [Status(_api=<tweepy.api.API object at 0x00000...  \n",
       "3   [Status(_api=<tweepy.api.API object at 0x00000...  \n",
       "4   [Status(_api=<tweepy.api.API object at 0x00000...  \n",
       "5   [Status(_api=<tweepy.api.API object at 0x00000...  \n",
       "6   [Status(_api=<tweepy.api.API object at 0x00000...  \n",
       "7   [Status(_api=<tweepy.api.API object at 0x00000...  \n",
       "8   [Status(_api=<tweepy.api.API object at 0x00000...  \n",
       "9   [Status(_api=<tweepy.api.API object at 0x00000...  \n",
       "10  [Status(_api=<tweepy.api.API object at 0x00000...  \n",
       "11  [Status(_api=<tweepy.api.API object at 0x00000...  \n",
       "12  [Status(_api=<tweepy.api.API object at 0x00000...  \n",
       "13  [Status(_api=<tweepy.api.API object at 0x00000...  \n",
       "14  [Status(_api=<tweepy.api.API object at 0x00000...  "
      ]
     },
     "execution_count": 16,
     "metadata": {},
     "output_type": "execute_result"
    }
   ],
   "source": [
    "timelines = pd.DataFrame({\"timelines\": timeline})\n",
    "e2020_df = pd.concat([e2020_df, timelines], axis = 1)\n",
    "e2020_df"
   ]
  },
  {
   "cell_type": "markdown",
   "metadata": {},
   "source": [
    "**Exercise 5**"
   ]
  },
  {
   "cell_type": "code",
   "execution_count": null,
   "metadata": {},
   "outputs": [],
   "source": [
    "tweets = []\n",
    "\n",
    "for i in e2020_df.index:\n",
    "    tweets_no = len(e2020_df.timelines[i])\n",
    "    temp_text = []\n",
    "    for j in range(0,tweets_no):\n",
    "        temp_text.append(e2020_df.timelines[i][j]._json[\"text\"])\n",
    "#         print(j)\n",
    "    tweets.append(temp_text)\n",
    "    print(i)\n",
    "\n",
    "tweets = pd.DataFrame({\"tweets\": tweets})\n",
    "\n",
    "e2020_df = pd.concat([e2020_df, tweets], axis = 1)"
   ]
  },
  {
   "cell_type": "markdown",
   "metadata": {},
   "source": [
    "**Exercise 6**"
   ]
  },
  {
   "cell_type": "code",
   "execution_count": null,
   "metadata": {},
   "outputs": [],
   "source": [
    "text = []\n",
    "\n",
    "for i in e2020_df.index:\n",
    "    text.append(\" \".join(e2020_df['tweets'][i]))\n",
    "\n",
    "text = pd.DataFrame({\"text\": text})\n",
    "\n",
    "e2020_df = pd.concat([e2020_df, text], axis = 1)"
   ]
  },
  {
   "cell_type": "markdown",
   "metadata": {},
   "source": [
    "**Exercise 7**"
   ]
  },
  {
   "cell_type": "code",
   "execution_count": null,
   "metadata": {},
   "outputs": [],
   "source": [
    "import re"
   ]
  },
  {
   "cell_type": "code",
   "execution_count": null,
   "metadata": {},
   "outputs": [],
   "source": [
    "mentions = []\n",
    "\n",
    "for i in e2020_df.index:\n",
    "    mentions.append(re.findall('@\\S+', e2020_df['text'][i]))\n",
    "\n",
    "mentions = pd.DataFrame({'mentions': mentions})\n",
    "\n",
    "e2020_df = pd.concat([e2020_df, mentions], axis = 1)"
   ]
  },
  {
   "cell_type": "code",
   "execution_count": null,
   "metadata": {},
   "outputs": [],
   "source": [
    "hashtags = []\n",
    "\n",
    "for i in e2020_df.index:\n",
    "    hashtags.append(re.findall('#\\S+', e2020_df['text'][i]))\n",
    "\n",
    "hashtags = pd.DataFrame({'hashtags': hashtags})\n",
    "\n",
    "e2020_df = pd.concat([e2020_df, hashtags], axis = 1)"
   ]
  },
  {
   "cell_type": "markdown",
   "metadata": {},
   "source": [
    "**Exercise 8**"
   ]
  },
  {
   "cell_type": "code",
   "execution_count": null,
   "metadata": {},
   "outputs": [],
   "source": [
    "#Open the file in write mode\n",
    "f = open('hashtags.txt','w', encoding = \"utf-8\")\n",
    "\n",
    "#Loop through each tuple and write it as a string, with a new line\n",
    "for i in e2020_df.index:\n",
    "    f.write(str(e2020_df[\"name\"][i]) + \": \" + str(e2020_df[\"hashtags\"][i]) + \"\\n\")\n",
    "\n",
    "#close the file.\n",
    "f.close()"
   ]
  },
  {
   "cell_type": "markdown",
   "metadata": {},
   "source": [
    "**Exercise 9**"
   ]
  },
  {
   "cell_type": "code",
   "execution_count": null,
   "metadata": {},
   "outputs": [],
   "source": [
    "e2020_df.describe()"
   ]
  },
  {
   "cell_type": "markdown",
   "metadata": {},
   "source": [
    "**Exercise 10**"
   ]
  },
  {
   "cell_type": "code",
   "execution_count": 18,
   "metadata": {},
   "outputs": [],
   "source": [
    "import matplotlib.pyplot as plt"
   ]
  },
  {
   "cell_type": "code",
   "execution_count": 19,
   "metadata": {},
   "outputs": [
    {
     "data": {
      "text/plain": [
       "([0, 1, 2, 3, 4, 5, 6, 7, 8, 9, 10, 11, 12, 13, 14],\n",
       " <a list of 15 Text xticklabel objects>)"
      ]
     },
     "execution_count": 19,
     "metadata": {},
     "output_type": "execute_result"
    },
    {
     "name": "stderr",
     "output_type": "stream",
     "text": [
      "C:\\Users\\Emil\\anaconda3\\lib\\site-packages\\matplotlib\\backends\\backend_agg.py:211: RuntimeWarning: Glyph 55356 missing from current font.\n",
      "  font.set_text(s, 0.0, flags=flags)\n",
      "C:\\Users\\Emil\\anaconda3\\lib\\site-packages\\matplotlib\\backends\\backend_agg.py:211: RuntimeWarning: Glyph 56819 missing from current font.\n",
      "  font.set_text(s, 0.0, flags=flags)\n",
      "C:\\Users\\Emil\\anaconda3\\lib\\site-packages\\matplotlib\\backends\\backend_agg.py:211: RuntimeWarning: Glyph 56812 missing from current font.\n",
      "  font.set_text(s, 0.0, flags=flags)\n",
      "C:\\Users\\Emil\\anaconda3\\lib\\site-packages\\matplotlib\\backends\\backend_agg.py:211: RuntimeWarning: Glyph 55357 missing from current font.\n",
      "  font.set_text(s, 0.0, flags=flags)\n",
      "C:\\Users\\Emil\\anaconda3\\lib\\site-packages\\matplotlib\\backends\\backend_agg.py:211: RuntimeWarning: Glyph 56495 missing from current font.\n",
      "  font.set_text(s, 0.0, flags=flags)\n",
      "C:\\Users\\Emil\\anaconda3\\lib\\site-packages\\matplotlib\\backends\\backend_agg.py:211: RuntimeWarning: Glyph 57183 missing from current font.\n",
      "  font.set_text(s, 0.0, flags=flags)\n",
      "C:\\Users\\Emil\\anaconda3\\lib\\site-packages\\matplotlib\\backends\\backend_agg.py:211: RuntimeWarning: Glyph 57195 missing from current font.\n",
      "  font.set_text(s, 0.0, flags=flags)\n",
      "C:\\Users\\Emil\\anaconda3\\lib\\site-packages\\matplotlib\\backends\\backend_agg.py:180: RuntimeWarning: Glyph 55356 missing from current font.\n",
      "  font.set_text(s, 0, flags=flags)\n",
      "C:\\Users\\Emil\\anaconda3\\lib\\site-packages\\matplotlib\\backends\\backend_agg.py:180: RuntimeWarning: Glyph 56819 missing from current font.\n",
      "  font.set_text(s, 0, flags=flags)\n",
      "C:\\Users\\Emil\\anaconda3\\lib\\site-packages\\matplotlib\\backends\\backend_agg.py:180: RuntimeWarning: Glyph 56812 missing from current font.\n",
      "  font.set_text(s, 0, flags=flags)\n",
      "C:\\Users\\Emil\\anaconda3\\lib\\site-packages\\matplotlib\\backends\\backend_agg.py:180: RuntimeWarning: Glyph 55357 missing from current font.\n",
      "  font.set_text(s, 0, flags=flags)\n",
      "C:\\Users\\Emil\\anaconda3\\lib\\site-packages\\matplotlib\\backends\\backend_agg.py:180: RuntimeWarning: Glyph 56495 missing from current font.\n",
      "  font.set_text(s, 0, flags=flags)\n",
      "C:\\Users\\Emil\\anaconda3\\lib\\site-packages\\matplotlib\\backends\\backend_agg.py:180: RuntimeWarning: Glyph 57183 missing from current font.\n",
      "  font.set_text(s, 0, flags=flags)\n",
      "C:\\Users\\Emil\\anaconda3\\lib\\site-packages\\matplotlib\\backends\\backend_agg.py:180: RuntimeWarning: Glyph 57195 missing from current font.\n",
      "  font.set_text(s, 0, flags=flags)\n"
     ]
    },
    {
     "data": {
      "image/png": "[encoded data removed]",
      "text/plain": [
       "<Figure size 1200x840 with 1 Axes>"
      ]
     },
     "metadata": {
      "needs_background": "light"
     },
     "output_type": "display_data"
    }
   ],
   "source": [
    "plt.figure(figsize=(10, 7), dpi= 120)\n",
    "\n",
    "plt.bar(e2020_df[\"name\"], e2020_df[\"followers_count\"])\n",
    "\n",
    "plt.title(\"Bar chart to showing follower count by account\")\n",
    "plt.xlabel(\"Twitter account\")\n",
    "plt.ylabel(\"Number of followers\")\n",
    "plt.xticks(rotation=90)"
   ]
  },
  {
   "cell_type": "markdown",
   "metadata": {},
   "source": [
    "**Exercise 11**"
   ]
  },
  {
   "cell_type": "code",
   "execution_count": null,
   "metadata": {},
   "outputs": [],
   "source": [
    "plt.figure(figsize=(10, 7), dpi= 120)\n",
    "\n",
    "plt.plot(e2020_df[\"statuses_count\"], e2020_df[\"followers_count\"], \"o\")\n",
    "\n",
    "plt.title(\"Scatter plot to showing follower count by status count\")\n",
    "plt.xlabel(\"Number of statuses posted\")\n",
    "plt.ylabel(\"Number of followers\")\n",
    "plt.xticks(rotation=90)"
   ]
  },
  {
   "cell_type": "markdown",
   "metadata": {},
   "source": [
    "**Additional exercise. Counting word usage.**"
   ]
  },
  {
   "cell_type": "code",
   "execution_count": null,
   "metadata": {},
   "outputs": [],
   "source": [
    "user_words = []\n",
    "\n",
    "for i in e2020_df.index:\n",
    "    word_dict = {}\n",
    "    text = e2020_df.text[i].lower().split(' ')\n",
    "    for word in text:\n",
    "        if word not in word_dict:\n",
    "            word_dict[word] = e2020_df.text[i].count(word)\n",
    "    user_words.append(word_dict)\n",
    "\n",
    "f = open('stop_words.txt', 'r', errors='ignore')\n",
    "stop_words = []\n",
    "for line in f:\n",
    "    stop_words.append(line.strip(\"\\n\"))\n",
    "    \n",
    "for user in user_words:\n",
    "    for j in stop_words:\n",
    "        if j in user.keys():\n",
    "            user.pop(j)\n",
    "\n",
    "word_freq = pd.DataFrame({\"word_count\": user_words})\n",
    "e2020_df = pd.concat([e2020_df, word_freq], axis = 1)\n",
    "        "
   ]
  },
  {
   "cell_type": "code",
   "execution_count": null,
   "metadata": {},
   "outputs": [],
   "source": [
    "print(e2020_df)"
   ]
  }
 ],
 "metadata": {
  "kernelspec": {
   "display_name": "Python 3",
   "language": "python",
   "name": "python3"
  },
  "language_info": {
   "codemirror_mode": {
    "name": "ipython",
    "version": 3
   },
   "file_extension": ".py",
   "mimetype": "text/x-python",
   "name": "python",
   "nbconvert_exporter": "python",
   "pygments_lexer": "ipython3",
   "version": "3.7.6"
  }
 },
 "nbformat": 4,
 "nbformat_minor": 2
}
