{
 "cells": [
  {
   "cell_type": "markdown",
   "metadata": {},
   "source": [
    "# Functions\n",
    "\n",
    "What are functions?\n",
    "- Commands not bound to a specific variable\n",
    "\t\n",
    "Functions help us reuse code\n",
    "- Saves time\n",
    "- Learn from & share with others\n",
    "\n",
    "Modularity is good, because…\n",
    "- It makes making changes easier (change one place instead of e.g. three)\n",
    "- It helps reduce the likelihood of errors\n",
    "- It helps make your code more tidy and readable\n",
    "    \n",
    "Use `def` to make a function (see cell below)"
   ]
  },
  {
   "cell_type": "code",
   "execution_count": 1,
   "metadata": {},
   "outputs": [],
   "source": [
    "#function average: calculates the average of a list of numbers\n",
    "#Expected input: a list that consists only of numbers (int or float)\n",
    "#Output: a float that is the average of all the numbers in the list\n",
    "def average (a_list):\n",
    "    avg = 0\n",
    "    \n",
    "    #loop through elements and add them\n",
    "    for element in a_list: \n",
    "        avg += element\n",
    "    \n",
    "    #return the sum divided by the length of the list, e.g. number of elements\n",
    "    return (avg / len(a_list))\n",
    "     "
   ]
  },
  {
   "cell_type": "code",
   "execution_count": 2,
   "metadata": {},
   "outputs": [
    {
     "name": "stdout",
     "output_type": "stream",
     "text": [
      "4362.975\n"
     ]
    }
   ],
   "source": [
    "#Data from https://www.statbank.dk/10021\n",
    "DK_population =[2447,2477,2506,2532,2560,2589,2621,2652,2687,2722,\n",
    "                2757,2788,2820,2851,2886,2921,2958,2991,3027,3061,\n",
    "                3265,3306,3340,3372,3406,3439,3467,3487,3510,3531,\n",
    "                3557,3590,3620,3651,3683,3711,3738,3765,3794,3826,\n",
    "                3849,3882,3926,3973,4023,4075,4123,4168,4211,4252,\n",
    "                4285,4315,4349,4389,4424,4454,4479,4501,4532,4566,\n",
    "                4601,4630,4666,4703,4741,4779,4820,4855,4879,4907,\n",
    "                4951,4976,5008,5036,5054,5065,5080,5097,5112,5122,\n",
    "                5124,5119,5116,5112,5111,5116,5125,5129,5130,5135,\n",
    "                5146,5162,5181,5197,5216,5251,5275,5295,5314,5330,\n",
    "                5349,5368,5384,5398,5411,5427,5447,5476,5511,5535,\n",
    "                5561,5581,5603,5627,5660,5707,5749,5781,5806,5823]\n",
    "\n",
    "print(average(DK_population))"
   ]
  },
  {
   "cell_type": "code",
   "execution_count": 3,
   "metadata": {},
   "outputs": [
    {
     "name": "stdout",
     "output_type": "stream",
     "text": [
      "6.75\n",
      "5.475\n"
     ]
    }
   ],
   "source": [
    "#list of integers\n",
    "int_list = [5,3,8,11]\n",
    "float_list = [3.6, 8.8, 1.3, 8.2]\n",
    "\n",
    "#calculate average\n",
    "my_average1 = average(int_list)\n",
    "my_average2 = average(float_list)\n",
    "\n",
    "#print average\n",
    "print(my_average1)\n",
    "print(my_average2)\n"
   ]
  },
  {
   "cell_type": "code",
   "execution_count": 6,
   "metadata": {},
   "outputs": [],
   "source": [
    "#Testing average function with a different list (also strings)\n",
    "#This will return an error, because in our function we have told it to add the elements of the list.\n",
    "\n",
    "mixed_list = ['1.3','a',3,9]\n",
    "#my_average3 = average(mixed_list)\n",
    "#print(my_average3)"
   ]
  },
  {
   "cell_type": "markdown",
   "metadata": {},
   "source": [
    "# Testing\n",
    "\n",
    "Important for eliminating errors from a program and your analysis\n",
    "- The above cell is an example of testing our average function\n",
    "\n",
    "\n",
    "Test in a separate cell from the original code\n",
    "- In a separate notebook, when we get to that\n",
    "\n",
    "\n",
    "What we test:\n",
    "- Typical inputs\n",
    "- Where we expect errors\n",
    "- Boundary conditions -- comething that might be overlooked or unusual input\n",
    "\n",
    "\n",
    "# Error handling\n",
    "\n",
    "Use `if` statements to check conditions\n",
    "\n",
    "\n",
    "Use `try` statements if you know something might cause an error\n",
    "- Usually for when others might use your code\n",
    "- (See example of the try command below). Here we try to floatify a variable, which we know is wrong (hence the except error line). Therefore, we provide our own error statement.\n",
    "- `None` is a way to return nothing (not 0, but nothing). So if error --> give error msg --> return None"
   ]
  },
  {
   "cell_type": "code",
   "execution_count": 4,
   "metadata": {},
   "outputs": [],
   "source": [
    "#all the above are tests of our function 'average'. \n",
    "#we learned that there are problems if 'average' gets a list that includes \n",
    "#elements that are not strings\n",
    "#making a new function better_average that includes error handling\n",
    "\n",
    "#function better_average: calculates the average of a list of numbers\n",
    "#Expected input: a list that consists only of numbers (int, float, or string representations of a number)\n",
    "#Expected output: a float that is the average of all the numbers in the list\n",
    "#Returns None if a list element is invalid\n",
    "def better_average(a_list): \n",
    "    avg = 0\n",
    "    \n",
    "    for element in a_list: #remember elements is not a keyword, but a word i choose. could also have been i for example\n",
    "        #Try to do this\n",
    "        try:\n",
    "            value = float(element)\n",
    "        #Do this if there was a ValueError\n",
    "        except ValueError: \n",
    "            print(\"This list includes elements that are not numbers. An average cannot be calculated.\")\n",
    "            return None \n",
    "        #Otherwise add the value to the average sum\n",
    "        else:\n",
    "            avg += value\n",
    "        \n",
    "    return (avg / len(a_list))       "
   ]
  },
  {
   "cell_type": "code",
   "execution_count": 7,
   "metadata": {},
   "outputs": [
    {
     "name": "stdout",
     "output_type": "stream",
     "text": [
      "6.75\n",
      "5.475\n",
      "This list includes elements that are not numbers. An average cannot be calculated.\n",
      "None\n"
     ]
    }
   ],
   "source": [
    "#Testing average function with our previously declared list\n",
    "b_avg_var1 = better_average(int_list)\n",
    "print(b_avg_var1)\n",
    "b_avg_var2 = better_average(float_list)\n",
    "print(b_avg_var2)\n",
    "b_avg_var3 = better_average(mixed_list)\n",
    "print(b_avg_var3)"
   ]
  },
  {
   "cell_type": "markdown",
   "metadata": {},
   "source": [
    "# Functions continued\n",
    "\n",
    "Variables declared within a function only exist within that function\n",
    "- In other words, it only has a local scope\n",
    "- This is why you return a value (thus giving it a global scope outside the function)\n",
    "\n",
    "\n",
    "As before, variables declared outside a function persist throughout the script/notebook\n",
    "- They have a global scope\n",
    "\n",
    "\n",
    "Creating a function is like creating a contract (with the rest of your code) about how that function will operate\n",
    "\n",
    "\n",
    "Good documentation/commenting on what the function does leads to good readability and expected behavior\n",
    "- Above each function, iinclude a description of what the function does, the expected input, and the expected output (see example above in cell 20)\n"
   ]
  },
  {
   "cell_type": "markdown",
   "metadata": {},
   "source": [
    "# Text files\n",
    "\n",
    "Also known as IO (input-output) operations\n",
    "\n",
    "Four things you can do with text files\n",
    "- Opening\n",
    "- Reading\n",
    "- Writing\n",
    "- Closing\n",
    "\n",
    "To read or write a text file you have to open it\n",
    "\n",
    "For now, we are \"hardcoding\" the text file name into our code\n",
    "- Other ways of asking for input\n",
    "\n",
    "To open call the function open, which returns a file object:\n",
    "- `open(filename, 'r')` - to read a textfile\n",
    "- `open(filename, 'w')` - to write to the text file\n",
    "- `open(filename, 'a')` - to append to the text file (adds to the end, where write instead overwrites stuff at the beginning)\n",
    "\n",
    "-\n",
    "\n",
    "### You can read the whole file into a string\n",
    "- `file.read()` - creates a string thats the content of the entire file (not recommended for large files, only works if the file exists)\n",
    "- `file.readline()` - a line ends with a \"\\n\" or newline character (use loop to repeatedly read lines)\n",
    "- `file.read(x)` - x is the number of characters (moves cursor x characters in the text)"
   ]
  },
  {
   "cell_type": "code",
   "execution_count": 9,
   "metadata": {},
   "outputs": [],
   "source": [
    "#Opening a file\n",
    "f = open('course_description.txt', 'r')"
   ]
  },
  {
   "cell_type": "code",
   "execution_count": 10,
   "metadata": {},
   "outputs": [],
   "source": [
    "#reading the first line of the file\n",
    "first_string = f.readline()"
   ]
  },
  {
   "cell_type": "code",
   "execution_count": 11,
   "metadata": {},
   "outputs": [
    {
     "name": "stdout",
     "output_type": "stream",
     "text": [
      "The rise of new types of digital data and the varieties of social life taking place on social media platforms enable new relations between quantitative and qualitative methods of inquiry and analysis. How such new complementarities are best exploited for social-scientific and practical purposes will be the focus of this course.\n",
      "\n"
     ]
    }
   ],
   "source": [
    "#printing to see what the first line is\n",
    "print(first_string)\n",
    "\n",
    "#Returns a long line, because it is literally on a single line in the txt-file. (no newline characters added)"
   ]
  },
  {
   "cell_type": "markdown",
   "metadata": {},
   "source": [
    "### You can write strings into files\n",
    "- `file.write(\"This is my new string.\")`\n",
    "- Command also writes amount of characters written (therefore below prints 29)\n",
    "\n",
    "Strings will be concanated (added together) with multiple writes\n",
    "\n",
    "A file needs to be opened in write or append mode to be able to write to it\n",
    "\n",
    "#### !! Write mode will overwrite what's already in the file"
   ]
  },
  {
   "cell_type": "code",
   "execution_count": 12,
   "metadata": {},
   "outputs": [
    {
     "data": {
      "text/plain": [
       "29"
      ]
     },
     "execution_count": 12,
     "metadata": {},
     "output_type": "execute_result"
    }
   ],
   "source": [
    "#Opening a file to write\n",
    "#Note: If this file already exists, it will be overwritten\n",
    "f2 = open('new_file.txt', 'w')\n",
    "\n",
    "#Writing to the file\n",
    "f2.write(\"I’m writing to my first file!\")"
   ]
  },
  {
   "cell_type": "markdown",
   "metadata": {},
   "source": [
    "### Always remember to close textfiles! Else you risk losing data.\n",
    "- `file.close()`\n",
    "- See cell below"
   ]
  },
  {
   "cell_type": "code",
   "execution_count": 13,
   "metadata": {},
   "outputs": [],
   "source": [
    "#Closing all our files\n",
    "f.close()\n",
    "f2.close()"
   ]
  },
  {
   "cell_type": "markdown",
   "metadata": {},
   "source": [
    "# Navigating files\n",
    "\n",
    "Our first library: `os`\n",
    "- `import os`\n",
    "\n",
    "`os.listdir(x)` gives a list of files in x (x is a directory)\n",
    "\n",
    "Lots of functions\n",
    "- `os.rename(original filename, new filename)` - Both filenames should be strings. Can be used with loops to rename several files in a directory (just remember they need different names, e.g. adding +1 to each name)\n",
    "- `os.getcsw()` - the directory the script is saved within\n",
    "- `os.mkdir(\"New\")` makes a new directory, called New in the directory the script is saved within\n",
    "- Use caution with `os.delete` - it _will_ delete the file from the computer\n",
    "- Etc. (see slides for more)"
   ]
  },
  {
   "cell_type": "code",
   "execution_count": 18,
   "metadata": {},
   "outputs": [
    {
     "name": "stdout",
     "output_type": "stream",
     "text": [
      ".git\n",
      ".gitattributes\n",
      ".ipynb_checkpoints\n",
      "3 - Core concepts of Python notebook.ipynb\n",
      "4 - Containers.ipynb\n",
      "course_description.txt\n",
      "New\n",
      "new_file.txt\n",
      "octocat.png\n",
      "README.md\n",
      "sodas_people.txt\n",
      "Speech_2019.txt\n",
      "stop_words.txt\n",
      "W1D2-3_2_commenting.ipynb\n",
      "W1D2-3_2_commenting.py\n",
      "W2D1-Exercise1.ipynb\n",
      "W2D1-Exercise1_sol.ipynb\n",
      "W2D2 Demo.ipynb\n",
      "W2D2-Exercise2.ipynb\n",
      "W2D2-Exercise_sol.ipynb\n",
      "W3D1 Demo.ipynb\n",
      "W3D1-Exercise3.ipynb\n"
     ]
    }
   ],
   "source": [
    "#Importing our first library\n",
    "import os\n",
    "\n",
    "#looping through all of the files in the current directory\n",
    "for filename in os.listdir('.'): # the dot, . , means 'current directory'. Left out, this achieves the same thing. Could be replaces with another link.\n",
    "    #printing the files\n",
    "    print(filename)\n",
    "    \n",
    "#Making a new directory (prints error, because New directory already exists)\n",
    "os.mkdir(\"New\")\n",
    "file = open(\"./New/new_file.txt\", 'w')"
   ]
  },
  {
   "cell_type": "markdown",
   "metadata": {},
   "source": [
    "# Regular expressions\n",
    "\n",
    "Our second library `re`!\n",
    "- Note the minimalism in library names\n",
    "\n",
    "#### Regular expressions help you find patterns in text\n",
    "Useful to find things that follow specific formats or have minor variations\n",
    "- Addresses\n",
    "- E-mail addresses\n",
    "- Currency amount\n",
    "- E-mail\n",
    "- Phone numbers\n",
    "- Etc.\n",
    "\n",
    "Three key function for finding a pattern:\n",
    "- `re.match(pattern, string)` - tries to find the pattern at the start of the string\n",
    "- `re.search(pattern, string)` - tries to find the pattern anywhere in the string (prob. what we want most of the time)\n",
    "- `re.findall(pattern, string)` - finds all matches of the pattern\n",
    "- Look at documentation for this, prob. not in textbook\n",
    "\n",
    "Regular expressions use special characters to mark pieces of patterns\n",
    "- See slides for list, but e.g.\n",
    "- Refer to documentation for special characters lists and how they work!\n",
    "- The `\\` says the symbol/letter, not the character. E.g. `\\s` looks for whitespace.\n",
    "- Making the character capitalized means opposite, e.g.: `\\S` mean not whitespace. (For example see e-mail cell)\n",
    "\n",
    "\n",
    "`re.search` and `re.match` return a `match` object if a match was found\n",
    "- A match object includes the subgroup matches of your pattern\n",
    "- A succesful match also has a Boolean value of `True`\n",
    "- No match returns a null value (`None`)"
   ]
  },
  {
   "cell_type": "code",
   "execution_count": 39,
   "metadata": {},
   "outputs": [
    {
     "name": "stdout",
     "output_type": "stream",
     "text": [
      "<re.Match object; span=(0, 29), match='samantha.breslin@anthro.ku.dk'>\n",
      "None\n"
     ]
    }
   ],
   "source": [
    "import re\n",
    "#our regular expression pattern for an email\n",
    "email_pattern = '(\\S+@\\S+\\.(\\w){2,3})'\n",
    "#\\S+ - finding multiple characters (+) that are NOT whitespace (\\S))\n",
    "#the (\\w){2,3} means that it wants a . and then 2 or 3 characters (for the domain name)\n",
    "#If we wanted to find all mail adresses that started with \"s\", we would just add s (without backslash) at the beginning: (s\\S+@\\S+\\.(\\w){2,3})\n",
    "\n",
    "#Our test cases\n",
    "print(re.search(email_pattern, 'samantha.breslin@anthro.ku.dk'))\n",
    "print(re.search(email_pattern, 'I\\'ll be @ work'))"
   ]
  },
  {
   "cell_type": "code",
   "execution_count": 37,
   "metadata": {},
   "outputs": [
    {
     "name": "stdout",
     "output_type": "stream",
     "text": [
      "None\n"
     ]
    }
   ],
   "source": [
    "#Finding a phone number (doesnt work for me)\n",
    "import re\n",
    "phonenumber = '((\\d){8}(/s?))'\n",
    "print(re.search(phonenumber, '22556699'))"
   ]
  },
  {
   "cell_type": "code",
   "execution_count": 29,
   "metadata": {
    "collapsed": true
   },
   "outputs": [],
   "source": [
    "#A function that finds the emails in a file\n",
    "#Expected input: a filename for an existing file (will cause an error if the file does not exist)\n",
    "#Expected output: Writes to a text file called filename_emails.txt that lists all the emails found \n",
    "#in the original file separated by newlines\n",
    "def read_emails(filename):\n",
    "    #import regular expressions\n",
    "    import re\n",
    "\n",
    "    #our regular expression pattern for an email\n",
    "    email_pattern = '(\\S+@\\S+\\.(\\w){2,3})'\n",
    "\n",
    "    #Opening file\n",
    "    file = open(filename,'r')\n",
    "    #Create empty list to store emails we collect through the search\n",
    "    emails = []\n",
    "\n",
    "    #loop through each line in the file\n",
    "    for line in file:\n",
    "        #try to search for an email\n",
    "        temp_email = re.search(email_pattern, line)\n",
    "        \n",
    "        #If an email was found, add it to the list\n",
    "        if temp_email: \n",
    "            emails.append(temp_email.group()) #adding the group tells it to append the whole thing\n",
    "\n",
    "    #Close the file, since we're done with it\n",
    "    file.close()\n",
    "    \n",
    "    #removing the file extension (so our new file is not XXX.txt.txt but XXX.txt)\n",
    "    short_name = filename.split('.')[0]\n",
    "    \n",
    "    #Create a new file for the email names\n",
    "    email_file = open(short_name +'_emails.txt', 'w')\n",
    "\n",
    "    #go through each email in the list and write the email to the new file\n",
    "    for element in emails:\n",
    "        email_file.write(element + '\\n')\n",
    "\n",
    "    #Close the new file with all the emails\n",
    "    email_file.close()\n"
   ]
  },
  {
   "cell_type": "code",
   "execution_count": 30,
   "metadata": {
    "collapsed": true
   },
   "outputs": [],
   "source": [
    "#Testing our function\n",
    "read_emails('sodas_people.txt')"
   ]
  },
  {
   "cell_type": "code",
   "execution_count": null,
   "metadata": {},
   "outputs": [],
   "source": []
  }
 ],
 "metadata": {
  "kernelspec": {
   "display_name": "Python 3",
   "language": "python",
   "name": "python3"
  },
  "language_info": {
   "codemirror_mode": {
    "name": "ipython",
    "version": 3
   },
   "file_extension": ".py",
   "mimetype": "text/x-python",
   "name": "python",
   "nbconvert_exporter": "python",
   "pygments_lexer": "ipython3",
   "version": "3.7.4"
  }
 },
 "nbformat": 4,
 "nbformat_minor": 2
}
