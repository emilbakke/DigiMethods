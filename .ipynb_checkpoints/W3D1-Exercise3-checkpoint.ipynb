{
 "cells": [
  {
   "cell_type": "markdown",
   "metadata": {},
   "source": [
    "# Exercise 3: Functions and Data\n",
    "\n",
    "Builds on exercises provided by programminghistorian.org. \n",
    "\n",
    "## 3.1 Functions\n"
   ]
  },
  {
   "cell_type": "markdown",
   "metadata": {},
   "source": [
    "**Question 3.1.1**: Write a function `is_number` that uses the `try` and `except` structure to return `True` of the input is a number, or print a relevant error statement and returns `None` if the input is not a number. Test your function on several cases. "
   ]
  },
  {
   "cell_type": "code",
   "execution_count": 49,
   "metadata": {},
   "outputs": [],
   "source": [
    "#Answer to question 3.1.1\n",
    "def is_number(x):\n",
    "    try: \n",
    "        value = int(x) #Tests if its a number by trying to turn it into an int (which is possible with both int and float)\n",
    "    except ValueError:\n",
    "        print(\"Not a number.\")\n",
    "        return None\n",
    "    return True\n",
    "    "
   ]
  },
  {
   "cell_type": "markdown",
   "metadata": {},
   "source": [
    "**Question 3.1.2**: Write some test cases for your function. Did you have to change your function based on your test cases? If so, explain. "
   ]
  },
  {
   "cell_type": "code",
   "execution_count": 54,
   "metadata": {},
   "outputs": [
    {
     "name": "stdout",
     "output_type": "stream",
     "text": [
      "This list includes elements that are not numbers.\n"
     ]
    },
    {
     "data": {
      "text/plain": [
       "True"
      ]
     },
     "execution_count": 54,
     "metadata": {},
     "output_type": "execute_result"
    }
   ],
   "source": [
    "#Answer to question 3.1.2\n",
    "is_number(5)\n",
    "is_number(\"hey\")\n",
    "is_number('5')"
   ]
  },
  {
   "cell_type": "markdown",
   "metadata": {},
   "source": [
    "**Question 3.1.3**: Write a function `word_freq` that takes in a list of words and counts the frequency of each word in the list. Your function should return a dictionary with the word as the key and the count as the value. \n",
    "\n",
    "Hint: Useful string methods to look at is `count()`."
   ]
  },
  {
   "cell_type": "code",
   "execution_count": 28,
   "metadata": {},
   "outputs": [],
   "source": [
    "#Answer to question 3.1.3\n",
    "a_list=[\"hey\", \"hey\", \"hello\", \"hi\"] #which is keys here\n",
    "count=0 #which is value\n",
    "\n",
    "def word_freq(a_list):\n",
    "    count = [a_list.count(i) for i in a_list]\n",
    "    return dict(list(zip(a_list, count)))"
   ]
  },
  {
   "cell_type": "code",
   "execution_count": 56,
   "metadata": {},
   "outputs": [
    {
     "data": {
      "text/plain": [
       "{'hey': 2, 'hello': 1, 'hi': 1}"
      ]
     },
     "execution_count": 56,
     "metadata": {},
     "output_type": "execute_result"
    }
   ],
   "source": [
    "word_freq(a_list) #it works"
   ]
  },
  {
   "cell_type": "markdown",
   "metadata": {},
   "source": [
    "**Question 3.1.4**: Write a function  `sort_freq_dict` that takes a dictionary of key value pairs that are words and their frequencies. The function should turn the dictionary into a list of (freq, word) tuples, sorted highest to lowest by frequency. The function should return this list. \n",
    "\n",
    "Hint: list methods `sort()` and `reverse()` will be useful. "
   ]
  },
  {
   "cell_type": "code",
   "execution_count": 84,
   "metadata": {},
   "outputs": [
    {
     "ename": "SyntaxError",
     "evalue": "invalid syntax (<ipython-input-84-e421852973d1>, line 7)",
     "output_type": "error",
     "traceback": [
      "\u001b[1;36m  File \u001b[1;32m\"<ipython-input-84-e421852973d1>\"\u001b[1;36m, line \u001b[1;32m7\u001b[0m\n\u001b[1;33m    new_animals = [((tuple(reversed(t)) for t in l]\u001b[0m\n\u001b[1;37m                                                  ^\u001b[0m\n\u001b[1;31mSyntaxError\u001b[0m\u001b[1;31m:\u001b[0m invalid syntax\n"
     ]
    }
   ],
   "source": [
    "#Answer to question 3.1.4\n",
    "animals = {\"Dog\":5,\n",
    "          \"Cat\":7,\n",
    "          \"Hamster\":3}\n",
    "\n",
    "def sort_freq_dict(animals):\n",
    "    #new_animals = [((tuple(reversed(t)) for t in l]\n",
    "    new_animals = [(sort_freq_dict[key], key) for key in animals]\n",
    "    new_animals.sort()\n",
    "    new_animals.reverse()\n",
    "    return new_animals"
   ]
  },
  {
   "cell_type": "code",
   "execution_count": 83,
   "metadata": {},
   "outputs": [
    {
     "data": {
      "text/plain": [
       "dict_keys(['Dog', 'Cat', 'Hamster'])"
      ]
     },
     "execution_count": 83,
     "metadata": {},
     "output_type": "execute_result"
    }
   ],
   "source": [
    "#animals_list = list(tuple(animals[0]), tuple(animals[1], tuple(animals[2])))\n",
    "#animals2 = list(animals.items())\n",
    "#animals2.reverse()\n",
    "#print(animals2)\n",
    "animals.keys()"
   ]
  },
  {
   "cell_type": "markdown",
   "metadata": {},
   "source": [
    "**Question 3.1.5**: Write a function called `remove_stop_words` that takes two lists of words as input (a word list and a stop word list). Your function should return a list of words with all the words in the word list except those found in the stop word list. \n",
    "\n",
    "Note: A stop word list is a list of common words (e.g. the, a, and, etc.)"
   ]
  },
  {
   "cell_type": "code",
   "execution_count": 168,
   "metadata": {},
   "outputs": [],
   "source": [
    "#Answer to question 3.1.5\n",
    "wordlist = [\"I\", \"am\", \"a\", \"teenager\", \"You\", \"are\", \"an\", \"adult\", \"Whatever\"]\n",
    "stopwords = [\"a\", \"I\", \"am\", \"you\", \"are\"]\n",
    "no_stopwords=[]\n",
    "\n",
    "#def remove_stop_words(wordlist, stopwords):\n",
    " #   no_stopwords = [w for w in wordlist if w not in stopwords]:\n",
    "  #  return[no_stopwords]\n",
    "\n",
    "def remove_stop_words(wordlist,stopwords):\n",
    "    for word in list(wordlist):\n",
    "        if word not in stopwords:\n",
    "            no_stopwords.append(word)\n",
    "    return (no_stopwords)"
   ]
  },
  {
   "cell_type": "code",
   "execution_count": 169,
   "metadata": {},
   "outputs": [
    {
     "data": {
      "text/plain": [
       "['teenager', 'You', 'an', 'adult', 'Whatever']"
      ]
     },
     "execution_count": 169,
     "metadata": {},
     "output_type": "execute_result"
    }
   ],
   "source": [
    "remove_stop_words(wordlist, stopwords)"
   ]
  },
  {
   "cell_type": "markdown",
   "metadata": {},
   "source": [
    "## 2.2 Text Files\n",
    "\n",
    "**Question 2.2.1**: Read in the text files `stop_words.txt` and turn it into a list of words. \n",
    "\n",
    "Note: when you look at the file you see that each word is on a different line. Remember to remove the newline characters for each line/word.\n",
    "\n",
    "Stopwords from: http://ir.dcs.gla.ac.uk/resources/linguistic_utils/stop_words"
   ]
  },
  {
   "cell_type": "code",
   "execution_count": 209,
   "metadata": {},
   "outputs": [],
   "source": [
    "#Answer to question 2.2.1\n",
    "f = open('stop_words.txt', 'r')\n",
    "wordlist2 = f.readlines()\n",
    "\n",
    "def removeN (wordlist2):\n",
    "    for i in wordlist2:\n",
    "        wordlist2.rstrip('\\\\n')"
   ]
  },
  {
   "cell_type": "code",
   "execution_count": 210,
   "metadata": {},
   "outputs": [
    {
     "data": {
      "text/plain": [
       "['a\\n',\n",
       " 'about\\n',\n",
       " 'above\\n',\n",
       " 'across\\n',\n",
       " 'after\\n',\n",
       " 'afterwards\\n',\n",
       " 'again\\n',\n",
       " 'against\\n',\n",
       " 'all\\n',\n",
       " 'almost\\n',\n",
       " 'alone\\n',\n",
       " 'along\\n',\n",
       " 'already\\n',\n",
       " 'also\\n',\n",
       " 'although\\n',\n",
       " 'always\\n',\n",
       " 'am\\n',\n",
       " 'among\\n',\n",
       " 'amongst\\n',\n",
       " 'amoungst\\n',\n",
       " 'amount\\n',\n",
       " 'an\\n',\n",
       " 'and\\n',\n",
       " 'another\\n',\n",
       " 'any\\n',\n",
       " 'anyhow\\n',\n",
       " 'anyone\\n',\n",
       " 'anything\\n',\n",
       " 'anyway\\n',\n",
       " 'anywhere\\n',\n",
       " 'are\\n',\n",
       " 'around\\n',\n",
       " 'as\\n',\n",
       " 'at\\n',\n",
       " 'back\\n',\n",
       " 'be\\n',\n",
       " 'became\\n',\n",
       " 'because\\n',\n",
       " 'become\\n',\n",
       " 'becomes\\n',\n",
       " 'becoming\\n',\n",
       " 'been\\n',\n",
       " 'before\\n',\n",
       " 'beforehand\\n',\n",
       " 'behind\\n',\n",
       " 'being\\n',\n",
       " 'below\\n',\n",
       " 'beside\\n',\n",
       " 'besides\\n',\n",
       " 'between\\n',\n",
       " 'beyond\\n',\n",
       " 'bill\\n',\n",
       " 'both\\n',\n",
       " 'bottom\\n',\n",
       " 'but\\n',\n",
       " 'by\\n',\n",
       " 'call\\n',\n",
       " 'can\\n',\n",
       " 'cannot\\n',\n",
       " 'cant\\n',\n",
       " 'co\\n',\n",
       " 'computer\\n',\n",
       " 'con\\n',\n",
       " 'could\\n',\n",
       " 'couldnt\\n',\n",
       " 'cry\\n',\n",
       " 'de\\n',\n",
       " 'describe\\n',\n",
       " 'detail\\n',\n",
       " 'do\\n',\n",
       " 'done\\n',\n",
       " 'down\\n',\n",
       " 'due\\n',\n",
       " 'during\\n',\n",
       " 'each\\n',\n",
       " 'eg\\n',\n",
       " 'eight\\n',\n",
       " 'either\\n',\n",
       " 'eleven\\n',\n",
       " 'else\\n',\n",
       " 'elsewhere\\n',\n",
       " 'empty\\n',\n",
       " 'enough\\n',\n",
       " 'etc\\n',\n",
       " 'even\\n',\n",
       " 'ever\\n',\n",
       " 'every\\n',\n",
       " 'everyone\\n',\n",
       " 'everything\\n',\n",
       " 'everywhere\\n',\n",
       " 'except\\n',\n",
       " 'few\\n',\n",
       " 'fifteen\\n',\n",
       " 'fify\\n',\n",
       " 'fill\\n',\n",
       " 'find\\n',\n",
       " 'fire\\n',\n",
       " 'first\\n',\n",
       " 'five\\n',\n",
       " 'for\\n',\n",
       " 'former\\n',\n",
       " 'formerly\\n',\n",
       " 'forty\\n',\n",
       " 'found\\n',\n",
       " 'four\\n',\n",
       " 'from\\n',\n",
       " 'front\\n',\n",
       " 'full\\n',\n",
       " 'further\\n',\n",
       " 'get\\n',\n",
       " 'give\\n',\n",
       " 'go\\n',\n",
       " 'had\\n',\n",
       " 'has\\n',\n",
       " 'hasnt\\n',\n",
       " 'have\\n',\n",
       " 'he\\n',\n",
       " 'hence\\n',\n",
       " 'her\\n',\n",
       " 'here\\n',\n",
       " 'hereafter\\n',\n",
       " 'hereby\\n',\n",
       " 'herein\\n',\n",
       " 'hereupon\\n',\n",
       " 'hers\\n',\n",
       " 'herself\\n',\n",
       " 'him\\n',\n",
       " 'himself\\n',\n",
       " 'his\\n',\n",
       " 'how\\n',\n",
       " 'however\\n',\n",
       " 'hundred\\n',\n",
       " 'i\\n',\n",
       " 'ie\\n',\n",
       " 'if\\n',\n",
       " 'in\\n',\n",
       " 'inc\\n',\n",
       " 'indeed\\n',\n",
       " 'interest\\n',\n",
       " 'into\\n',\n",
       " 'is\\n',\n",
       " 'it\\n',\n",
       " 'its\\n',\n",
       " 'itself\\n',\n",
       " 'keep\\n',\n",
       " 'last\\n',\n",
       " 'latter\\n',\n",
       " 'latterly\\n',\n",
       " 'least\\n',\n",
       " 'less\\n',\n",
       " 'ltd\\n',\n",
       " 'made\\n',\n",
       " 'many\\n',\n",
       " 'may\\n',\n",
       " 'me\\n',\n",
       " 'meanwhile\\n',\n",
       " 'might\\n',\n",
       " 'mill\\n',\n",
       " 'mine\\n',\n",
       " 'more\\n',\n",
       " 'moreover\\n',\n",
       " 'most\\n',\n",
       " 'mostly\\n',\n",
       " 'move\\n',\n",
       " 'much\\n',\n",
       " 'must\\n',\n",
       " 'my\\n',\n",
       " 'myself\\n',\n",
       " 'name\\n',\n",
       " 'namely\\n',\n",
       " 'neither\\n',\n",
       " 'never\\n',\n",
       " 'nevertheless\\n',\n",
       " 'next\\n',\n",
       " 'nine\\n',\n",
       " 'no\\n',\n",
       " 'nobody\\n',\n",
       " 'none\\n',\n",
       " 'noone\\n',\n",
       " 'nor\\n',\n",
       " 'not\\n',\n",
       " 'nothing\\n',\n",
       " 'now\\n',\n",
       " 'nowhere\\n',\n",
       " 'of\\n',\n",
       " 'off\\n',\n",
       " 'often\\n',\n",
       " 'on\\n',\n",
       " 'once\\n',\n",
       " 'one\\n',\n",
       " 'only\\n',\n",
       " 'onto\\n',\n",
       " 'or\\n',\n",
       " 'other\\n',\n",
       " 'others\\n',\n",
       " 'otherwise\\n',\n",
       " 'our\\n',\n",
       " 'ours\\n',\n",
       " 'ourselves\\n',\n",
       " 'out\\n',\n",
       " 'over\\n',\n",
       " 'own\\n',\n",
       " 'part\\n',\n",
       " 'per\\n',\n",
       " 'perhaps\\n',\n",
       " 'please\\n',\n",
       " 'put\\n',\n",
       " 'rather\\n',\n",
       " 're\\n',\n",
       " 'same\\n',\n",
       " 'see\\n',\n",
       " 'seem\\n',\n",
       " 'seemed\\n',\n",
       " 'seeming\\n',\n",
       " 'seems\\n',\n",
       " 'serious\\n',\n",
       " 'several\\n',\n",
       " 'she\\n',\n",
       " 'should\\n',\n",
       " 'show\\n',\n",
       " 'side\\n',\n",
       " 'since\\n',\n",
       " 'sincere\\n',\n",
       " 'six\\n',\n",
       " 'sixty\\n',\n",
       " 'so\\n',\n",
       " 'some\\n',\n",
       " 'somehow\\n',\n",
       " 'someone\\n',\n",
       " 'something\\n',\n",
       " 'sometime\\n',\n",
       " 'sometimes\\n',\n",
       " 'somewhere\\n',\n",
       " 'still\\n',\n",
       " 'such\\n',\n",
       " 'system\\n',\n",
       " 'take\\n',\n",
       " 'ten\\n',\n",
       " 'than\\n',\n",
       " 'that\\n',\n",
       " 'the\\n',\n",
       " 'their\\n',\n",
       " 'them\\n',\n",
       " 'themselves\\n',\n",
       " 'then\\n',\n",
       " 'thence\\n',\n",
       " 'there\\n',\n",
       " 'thereafter\\n',\n",
       " 'thereby\\n',\n",
       " 'therefore\\n',\n",
       " 'therein\\n',\n",
       " 'thereupon\\n',\n",
       " 'these\\n',\n",
       " 'they\\n',\n",
       " 'thick\\n',\n",
       " 'thin\\n',\n",
       " 'third\\n',\n",
       " 'this\\n',\n",
       " 'those\\n',\n",
       " 'though\\n',\n",
       " 'three\\n',\n",
       " 'through\\n',\n",
       " 'throughout\\n',\n",
       " 'thru\\n',\n",
       " 'thus\\n',\n",
       " 'to\\n',\n",
       " 'together\\n',\n",
       " 'too\\n',\n",
       " 'top\\n',\n",
       " 'toward\\n',\n",
       " 'towards\\n',\n",
       " 'twelve\\n',\n",
       " 'twenty\\n',\n",
       " 'two\\n',\n",
       " 'un\\n',\n",
       " 'under\\n',\n",
       " 'until\\n',\n",
       " 'up\\n',\n",
       " 'upon\\n',\n",
       " 'us\\n',\n",
       " 'very\\n',\n",
       " 'via\\n',\n",
       " 'was\\n',\n",
       " 'we\\n',\n",
       " 'well\\n',\n",
       " 'were\\n',\n",
       " 'what\\n',\n",
       " 'whatever\\n',\n",
       " 'when\\n',\n",
       " 'whence\\n',\n",
       " 'whenever\\n',\n",
       " 'where\\n',\n",
       " 'whereafter\\n',\n",
       " 'whereas\\n',\n",
       " 'whereby\\n',\n",
       " 'wherein\\n',\n",
       " 'whereupon\\n',\n",
       " 'wherever\\n',\n",
       " 'whether\\n',\n",
       " 'which\\n',\n",
       " 'while\\n',\n",
       " 'whither\\n',\n",
       " 'who\\n',\n",
       " 'whoever\\n',\n",
       " 'whole\\n',\n",
       " 'whom\\n',\n",
       " 'whose\\n',\n",
       " 'why\\n',\n",
       " 'will\\n',\n",
       " 'with\\n',\n",
       " 'within\\n',\n",
       " 'without\\n',\n",
       " 'would\\n',\n",
       " 'yet\\n',\n",
       " 'you\\n',\n",
       " 'your\\n',\n",
       " 'yours\\n',\n",
       " 'yourself\\n',\n",
       " 'yourselves']"
      ]
     },
     "execution_count": 210,
     "metadata": {},
     "output_type": "execute_result"
    }
   ],
   "source": [
    "list(wordlist2)"
   ]
  },
  {
   "cell_type": "markdown",
   "metadata": {},
   "source": [
    "**Question 2.2.2**: Write a function `make_wordlist` that takes a filename as the argument. The function reads the file, turning the text to lower case and removes all non alpha-numeric characters. The function returns a list of all the words.  \n",
    "\n",
    "Hint: You will need to use a regular expression for only alphanumeric characters. Use `search(pattern, text)` and `group()` methods following the example in class.  \n"
   ]
  },
  {
   "cell_type": "code",
   "execution_count": 1,
   "metadata": {},
   "outputs": [],
   "source": [
    "#Answer to Question 2.2.2\n",
    "import re\n",
    "nonAN = (\\)\n",
    "\n",
    "def make_wordlist(filename):\n",
    "    search(\\d,)"
   ]
  },
  {
   "cell_type": "markdown",
   "metadata": {},
   "source": [
    "**Question 2.2.3**: Putting the above together allows you to read a file, clean up the words to remove unwanted characters, and count the frequency of words in the text from the file. This results in a sorted list of words. \n",
    "\n",
    "Run the code below to count the frequency of words in `Speech_2019.txt`. This is the speech given by DK Prime Minister Mette Frederiksen at the opening of parliament. Original found [here](http://www.stm.dk/_p_14878.html).\n",
    "\n",
    "Write the resulting list of words frequencies to a new text file with an appropriate name. Have a look at the file, does it seem like all your functions are working as they should? \n",
    "\n",
    "Note: it is ok if you have words that are single letters or numbers. We'll work on improving our data cleaning techniques in later classes. "
   ]
  },
  {
   "cell_type": "code",
   "execution_count": 203,
   "metadata": {},
   "outputs": [
    {
     "ename": "NameError",
     "evalue": "name 'make_wordlist' is not defined",
     "output_type": "error",
     "traceback": [
      "\u001b[1;31m---------------------------------------------------------------------------\u001b[0m",
      "\u001b[1;31mNameError\u001b[0m                                 Traceback (most recent call last)",
      "\u001b[1;32m<ipython-input-203-05fbd3ae3f7e>\u001b[0m in \u001b[0;36m<module>\u001b[1;34m\u001b[0m\n\u001b[0;32m      1\u001b[0m \u001b[1;31m#Read the file and turn it into a list of words\u001b[0m\u001b[1;33m\u001b[0m\u001b[1;33m\u001b[0m\u001b[1;33m\u001b[0m\u001b[0m\n\u001b[1;32m----> 2\u001b[1;33m \u001b[0mword_list\u001b[0m \u001b[1;33m=\u001b[0m \u001b[0mmake_wordlist\u001b[0m\u001b[1;33m(\u001b[0m\u001b[1;34m'Speech_2019.txt'\u001b[0m\u001b[1;33m)\u001b[0m\u001b[1;33m\u001b[0m\u001b[1;33m\u001b[0m\u001b[0m\n\u001b[0m\u001b[0;32m      3\u001b[0m \u001b[1;31m#remove stop words from the list\u001b[0m\u001b[1;33m\u001b[0m\u001b[1;33m\u001b[0m\u001b[1;33m\u001b[0m\u001b[0m\n\u001b[0;32m      4\u001b[0m \u001b[0mword_list\u001b[0m \u001b[1;33m=\u001b[0m \u001b[0mremove_stop_words\u001b[0m\u001b[1;33m(\u001b[0m\u001b[0mword_list\u001b[0m\u001b[1;33m,\u001b[0m \u001b[0mstop_words\u001b[0m\u001b[1;33m)\u001b[0m\u001b[1;33m\u001b[0m\u001b[1;33m\u001b[0m\u001b[0m\n\u001b[0;32m      5\u001b[0m \u001b[1;31m#count the frequency of different words\u001b[0m\u001b[1;33m\u001b[0m\u001b[1;33m\u001b[0m\u001b[1;33m\u001b[0m\u001b[0m\n",
      "\u001b[1;31mNameError\u001b[0m: name 'make_wordlist' is not defined"
     ]
    }
   ],
   "source": [
    "#Read the file and turn it into a list of words\n",
    "word_list = make_wordlist('Speech_2019.txt')\n",
    "#remove stop words from the list\n",
    "word_list = remove_stop_words(word_list, stop_words)\n",
    "#count the frequency of different words\n",
    "word_dict = word_freq(word_list)\n",
    "#sort the list\n",
    "sorted_words = sort_freq_dict(word_dict)"
   ]
  },
  {
   "cell_type": "code",
   "execution_count": null,
   "metadata": {},
   "outputs": [],
   "source": [
    "#Answer to question 2.2.3"
   ]
  },
  {
   "cell_type": "markdown",
   "metadata": {},
   "source": [
    "## 2.3 (More) Regular Expressions"
   ]
  },
  {
   "cell_type": "markdown",
   "metadata": {},
   "source": [
    "**Question 2.3.1**: Write a regular expression for a telephone number."
   ]
  },
  {
   "cell_type": "markdown",
   "metadata": {},
   "source": [
    "*Answer to Question 2.3.1* \n",
    "\n",
    "Note this cell is in markdown mode."
   ]
  },
  {
   "cell_type": "markdown",
   "metadata": {},
   "source": [
    "**Question 2.3.2**: Write a regular expression for a URL. \n",
    "\n",
    "Note: For this exercise you can use a simple solution that does not account for all possible conditions, but will capture most URLs."
   ]
  },
  {
   "cell_type": "markdown",
   "metadata": {},
   "source": [
    "*Answer to Question 2.3.2* \n",
    "\n",
    "Note this cell is in markdown mode."
   ]
  },
  {
   "cell_type": "markdown",
   "metadata": {},
   "source": [
    "## 2.4 Reflection\n",
    "**Question 2.4.1**: Write a brief paragraph reflecting on your experience learning programming today. What did you struggle with? What did you enjoy? What surprised you?"
   ]
  },
  {
   "cell_type": "code",
   "execution_count": null,
   "metadata": {},
   "outputs": [],
   "source": [
    "#Answer to question 2.4.1"
   ]
  }
 ],
 "metadata": {
  "kernelspec": {
   "display_name": "Python 3",
   "language": "python",
   "name": "python3"
  },
  "language_info": {
   "codemirror_mode": {
    "name": "ipython",
    "version": 3
   },
   "file_extension": ".py",
   "mimetype": "text/x-python",
   "name": "python",
   "nbconvert_exporter": "python",
   "pygments_lexer": "ipython3",
   "version": "3.7.4"
  }
 },
 "nbformat": 4,
 "nbformat_minor": 2
}
