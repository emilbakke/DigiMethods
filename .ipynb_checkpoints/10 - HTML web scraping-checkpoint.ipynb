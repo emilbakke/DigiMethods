{
 "cells": [
  {
   "cell_type": "markdown",
   "metadata": {},
   "source": [
    "# HTML\n",
    "Markup language used for structuring content displayed on web pages\n",
    "- Stands for 'Hyper Text Markup Language'\n",
    "- Is the standard markup language used by the World Wide Web\n",
    "\n",
    "## The internet, WWW and text markup\n",
    "The internet is a global network os connected computers\n",
    "- Computers can be servers, PCs/Macs, smartphones, IoT devices, etc.\n",
    "- Purpose of the internet: to transport data between computers\n",
    "\n",
    "Internet is not the same as the World Wide Web\n",
    "- WWW is an application that runs on top of the Internet (like Skype, Instragram, Minecraft, etc.)\n",
    "- Interact with WWW using a browser. Browsers access web pages with URLs (Uniform Ressource Locators)\n",
    "- Fundamental building block of the WWW is webpages. These link to each other using hyperlinks\n",
    "    - Webpage hypertext is stored and encoded in plain text (e.g. ASCII)\n",
    "    - The web needs a protocol for enriching plain text so it can render links, images, bullet lists, bold font, math equations, etc. That protocol is HTML.\n",
    "\n",
    "## HTML Basics\n",
    "HTML uses tags to structure text and media content. Currently, there are 110 different tags.\n",
    "- Examples are '<h1'>, <img'>, <a'> (without the ')\n",
    "- Some tags needs to be closed, some don't.\n",
    "    - Tags that wrap around content most be closed (e.g. h1, p, and div). They are closed using a \\\n",
    "    - Tags that contain content need not (e.g. img, a, input)\n",
    "- Tags that have attributes that provice addition information about specific elements. For example having a link text for a link without showing the link itself. Like 'Click here'\n",
    "\n",
    "<div'> tag declares a container. Pages often have nested content using such container.\n",
    "- There are also containers, but web developers often uses div.\n",
    "- Wgen the browser loads a web page, it makes an internal representation called the Document Object Model (DOM). This is essentially just a tree of objects (like JSON)\n",
    "\n",
    "Modern websites are build with JavaScript frameworks like React or Angular. These frameworks manipulate the DOM based on user interactions to cange and load content dynamically. Result: on most pages, HTML changes when we interact with the page."
   ]
  },
  {
   "cell_type": "markdown",
   "metadata": {},
   "source": [
    "# Scraping\n",
    "Many web pages contain data that we would like to use for analysis\n",
    "- When we understand the structure of HTML, we can systematically scrape this data off the pages\n",
    "- Tools like BeautifulSoup lets us access content in a DOM simmilar to JSON\n",
    "\n",
    "## Why, when and what to  scrape\n",
    "### Why\n",
    "A site with interesting information has no API or downloadable datasets\n",
    "\n",
    "A site offers data through an API but it is too limited\n",
    "\n",
    "### When\n",
    "Typically you run scraping code periodically to get data over a period\n",
    "\n",
    "Scraping can therefore take a long time. Use servers or let your computer run at night\n",
    "\n",
    "### What\n",
    "DK markets: Boliga, Bolighed, Jobnet, Jobindex, Nord Pool, DBA\n",
    "\n",
    "Social media: Twitter, Facebook, Instagram, Vkontakte\n",
    "\n",
    "Message boards: Nationen, Reddit, 4chan\n",
    "\n",
    "## Scraping in Python with BeautifulSoup\n",
    "Easy to use library for parsing HTML\n",
    "\n",
    "Run `pip install beautifulsoup4` in terminal/command line to install\n",
    "\n",
    "Example:\n",
    "\n",
    "`from bs4 import beautifulsoup`\n",
    "\n",
    "`soup = beautifulsoup(my_html, 'html.parser')`\n",
    "\n",
    "`soup.find_all('p')`"
   ]
  },
  {
   "cell_type": "code",
   "execution_count": 1,
   "metadata": {
    "ExecuteTime": {
     "end_time": "2020-03-06T10:11:39.637846Z",
     "start_time": "2020-03-06T10:11:33.435153Z"
    }
   },
   "outputs": [
    {
     "name": "stdout",
     "output_type": "stream",
     "text": [
      "Requirement already satisfied: beautifulsoup4 in c:\\users\\emil1\\anaconda3\\lib\\site-packages (4.8.0)\n",
      "Requirement already satisfied: soupsieve>=1.2 in c:\\users\\emil1\\anaconda3\\lib\\site-packages (from beautifulsoup4) (1.9.3)\n"
     ]
    }
   ],
   "source": [
    "! pip install beautifulsoup4"
   ]
  },
  {
   "cell_type": "code",
   "execution_count": 2,
   "metadata": {
    "ExecuteTime": {
     "end_time": "2020-03-06T10:11:51.480761Z",
     "start_time": "2020-03-06T10:11:51.465203Z"
    }
   },
   "outputs": [],
   "source": [
    "from bs4 import BeautifulSoup"
   ]
  },
  {
   "cell_type": "code",
   "execution_count": 3,
   "metadata": {
    "ExecuteTime": {
     "end_time": "2020-03-06T10:12:08.542116Z",
     "start_time": "2020-03-06T10:12:08.151531Z"
    }
   },
   "outputs": [],
   "source": [
    "import requests as rq"
   ]
  },
  {
   "cell_type": "code",
   "execution_count": null,
   "metadata": {},
   "outputs": [],
   "source": []
  }
 ],
 "metadata": {
  "kernelspec": {
   "display_name": "Python 3",
   "language": "python",
   "name": "python3"
  },
  "language_info": {
   "codemirror_mode": {
    "name": "ipython",
    "version": 3
   },
   "file_extension": ".py",
   "mimetype": "text/x-python",
   "name": "python",
   "nbconvert_exporter": "python",
   "pygments_lexer": "ipython3",
   "version": "3.7.4"
  },
  "toc": {
   "base_numbering": 1,
   "nav_menu": {},
   "number_sections": true,
   "sideBar": true,
   "skip_h1_title": false,
   "title_cell": "Table of Contents",
   "title_sidebar": "Contents",
   "toc_cell": false,
   "toc_position": {},
   "toc_section_display": true,
   "toc_window_display": false
  }
 },
 "nbformat": 4,
 "nbformat_minor": 2
}
