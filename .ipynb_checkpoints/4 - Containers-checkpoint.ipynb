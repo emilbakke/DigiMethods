{
 "cells": [
  {
   "cell_type": "markdown",
   "metadata": {},
   "source": [
    "# Lists"
   ]
  },
  {
   "cell_type": "code",
   "execution_count": 2,
   "metadata": {},
   "outputs": [
    {
     "name": "stdout",
     "output_type": "stream",
     "text": [
      "[1, 2, 5, 6, 8, 12, 24]\n"
     ]
    }
   ],
   "source": [
    "my_list = [1, 2, 5, 6, 8, 12]\n",
    "my_list.append(24)\n",
    "print(my_list)\n",
    "\n",
    "#Had i added the append in another cell I risk adding 24 two/more times. \n",
    "#Instead, when doing it in one cell, it's only added once."
   ]
  },
  {
   "cell_type": "code",
   "execution_count": 3,
   "metadata": {},
   "outputs": [
    {
     "data": {
      "text/plain": [
       "2"
      ]
     },
     "execution_count": 3,
     "metadata": {},
     "output_type": "execute_result"
    }
   ],
   "source": [
    "my_list[1]\n",
    "#Indexes second position, because we have zero indexing in Python. Had I wanted first position, it would have been 0."
   ]
  },
  {
   "cell_type": "code",
   "execution_count": 5,
   "metadata": {},
   "outputs": [
    {
     "data": {
      "text/plain": [
       "'a'"
      ]
     },
     "execution_count": 5,
     "metadata": {},
     "output_type": "execute_result"
    }
   ],
   "source": [
    "my_list2 = [\"This\", \"is\", \"a\", \"list\"]\n",
    "my_list2[-2]\n",
    "\n",
    "#When doing negative indices/start from the right, it does not start at 0, but 1 - therefore, \"a\""
   ]
  },
  {
   "cell_type": "code",
   "execution_count": null,
   "metadata": {},
   "outputs": [],
   "source": [
    "my_list3=[]\n",
    "#Makes an empty list"
   ]
  },
  {
   "cell_type": "markdown",
   "metadata": {},
   "source": [
    "# Strings"
   ]
  },
  {
   "cell_type": "code",
   "execution_count": 8,
   "metadata": {},
   "outputs": [
    {
     "data": {
      "text/plain": [
       "\"'m\""
      ]
     },
     "execution_count": 8,
     "metadata": {},
     "output_type": "execute_result"
    }
   ],
   "source": [
    "#Characters indices / ranging on strings (remembers zero indexing)\n",
    "my_string = \"I'm a string!\"\n",
    "my_string[3]"
   ]
  },
  {
   "cell_type": "code",
   "execution_count": 7,
   "metadata": {},
   "outputs": [
    {
     "data": {
      "text/plain": [
       "\"'m\""
      ]
     },
     "execution_count": 7,
     "metadata": {},
     "output_type": "execute_result"
    }
   ],
   "source": [
    "my_string[1:3]"
   ]
  },
  {
   "cell_type": "code",
   "execution_count": 9,
   "metadata": {},
   "outputs": [
    {
     "data": {
      "text/plain": [
       "['https:', '', 'drive.google.com', 'drive', 'my-drive']"
      ]
     },
     "execution_count": 9,
     "metadata": {},
     "output_type": "execute_result"
    }
   ],
   "source": [
    "#Split method. Creates a list based on the pieces of the characters you give.\n",
    "#Here I split whenever there is a / in the string.\n",
    "\n",
    "my_url = \"https://drive.google.com/drive/my-drive\"\n",
    "my_url.split(\"/\")"
   ]
  },
  {
   "cell_type": "markdown",
   "metadata": {},
   "source": [
    "# Tuples"
   ]
  },
  {
   "cell_type": "code",
   "execution_count": 11,
   "metadata": {},
   "outputs": [],
   "source": [
    "#Declaring a tuple\n",
    "my_tuple=('Samantha', 'Anthropology', '16.0.05')"
   ]
  },
  {
   "cell_type": "code",
   "execution_count": 12,
   "metadata": {},
   "outputs": [],
   "source": [
    "#Tuples in lists:\n",
    "instructors=[('Samantha', 'Anthropology', '16.0.05'),('Friedolin', 'Sociology', '16.0.05'), ('Ulf', 'Physics', '16.0.05')]"
   ]
  },
  {
   "cell_type": "code",
   "execution_count": 13,
   "metadata": {},
   "outputs": [
    {
     "data": {
      "text/plain": [
       "'Sociology'"
      ]
     },
     "execution_count": 13,
     "metadata": {},
     "output_type": "execute_result"
    }
   ],
   "source": [
    "#Retrieves Fridolins discipline (second value of secong tuple in list). Remember zero indexing.\n",
    "instructors[1][1]"
   ]
  },
  {
   "cell_type": "markdown",
   "metadata": {},
   "source": [
    "# Dictionaries"
   ]
  },
  {
   "cell_type": "code",
   "execution_count": 23,
   "metadata": {},
   "outputs": [],
   "source": [
    "#Declaring a dictionary - remember {}\n",
    "my_dict={'Samantha':'Anthropology',\n",
    "         'Friedolin': 'Sociology', \n",
    "         'Ulf': 'CS'}"
   ]
  },
  {
   "cell_type": "code",
   "execution_count": 24,
   "metadata": {},
   "outputs": [
    {
     "data": {
      "text/plain": [
       "'Sociology'"
      ]
     },
     "execution_count": 24,
     "metadata": {},
     "output_type": "execute_result"
    }
   ],
   "source": [
    "my_dict['Friedolin']"
   ]
  },
  {
   "cell_type": "code",
   "execution_count": 25,
   "metadata": {},
   "outputs": [
    {
     "name": "stdout",
     "output_type": "stream",
     "text": [
      "[('Samantha', 103), ('Friedo', 78), ('Ulf', 85)]\n",
      "{'Samantha': 103, 'Friedo': 78, 'Ulf': 85}\n"
     ]
    }
   ],
   "source": [
    "#Zipping together keys and values (makes a list of tuples)\n",
    "keys = ['Samantha', 'Friedo', 'Ulf']\n",
    "ages = [103, 78, 85]\n",
    "key_values = list(zip(keys, ages))\n",
    "print(key_values)\n",
    "\n",
    "#Making the list of tuples a dictionary (note the {})\n",
    "my_dictionary2 = dict(key_values)\n",
    "print(my_dictionary2)"
   ]
  },
  {
   "cell_type": "markdown",
   "metadata": {},
   "source": [
    "# Loops"
   ]
  },
  {
   "cell_type": "code",
   "execution_count": null,
   "metadata": {},
   "outputs": [],
   "source": [
    "ages = [26, 21, 44, 28, 37]\n",
    "avg_age=0"
   ]
  }
 ],
 "metadata": {
  "kernelspec": {
   "display_name": "Python 3",
   "language": "python",
   "name": "python3"
  },
  "language_info": {
   "codemirror_mode": {
    "name": "ipython",
    "version": 3
   },
   "file_extension": ".py",
   "mimetype": "text/x-python",
   "name": "python",
   "nbconvert_exporter": "python",
   "pygments_lexer": "ipython3",
   "version": "3.7.4"
  }
 },
 "nbformat": 4,
 "nbformat_minor": 2
}
